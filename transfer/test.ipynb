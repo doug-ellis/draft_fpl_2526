{
 "cells": [
  {
   "cell_type": "code",
   "execution_count": 25,
   "id": "4ad2c5cb",
   "metadata": {},
   "outputs": [],
   "source": [
    "import pandas as pd\n",
    "from useful_funcs2 import *"
   ]
  },
  {
   "cell_type": "code",
   "execution_count": 26,
   "id": "206821f5",
   "metadata": {},
   "outputs": [],
   "source": [
    "# Wrangle data\n",
    "def import_data_from_vastaav(year, n_gws):\n",
    "    year_range = f'20{year-1}-{year}'\n",
    "    gw_df_list = []\n",
    "    for i in range(1, n_gws+1):\n",
    "        gw_url = f\"https://raw.githubusercontent.com/vaastav/Fantasy-Premier-League/refs/heads/master/data/{year_range}/gws/gw{i}.csv\"\n",
    "        gw_df = pd.read_csv(gw_url, index_col=0)\n",
    "        gw_df['gw'] = i\n",
    "        gw_df_list.append(gw_df)\n",
    "\n",
    "    gw_df = pd.concat(gw_df_list)\n",
    "    return gw_df.reset_index()"
   ]
  },
  {
   "cell_type": "code",
   "execution_count": 27,
   "id": "619710b0",
   "metadata": {},
   "outputs": [],
   "source": [
    "def add_team_data(gw_df):\n",
    "    gw_df['team_goals'] = gw_df.apply(lambda row: get_team_goals(row['was_home'], row['team_h_score'], row['team_a_score']), axis=1)\n",
    "    gw_df['opponent_goals'] = gw_df.apply(lambda row: get_opponent_goals(row['was_home'], row['team_h_score'], row['team_a_score']), axis=1)\n",
    "    gw_df['team_points'] = gw_df.apply(lambda row: get_team_points(row['was_home'], row['team_h_score'], row['team_a_score']), axis=1)\n",
    "    gw_df['opponent_points'] = gw_df['team_points'].apply(get_opponent_points)\n",
    "    return gw_df"
   ]
  },
  {
   "cell_type": "code",
   "execution_count": 28,
   "id": "41bd3bdb",
   "metadata": {},
   "outputs": [],
   "source": [
    "def combine_names(first_name, second_name):\n",
    "    full_name = first_name + '_' + second_name    \n",
    "    return full_name\n",
    "\n",
    "def clean_name(name):\n",
    "    name = name.replace(\" \", \"_\")\n",
    "    name = name.replace(\"-\", \"_\")\n",
    "    name = unidecode.unidecode(name)\n",
    "    return name.strip().lower()"
   ]
  },
  {
   "cell_type": "code",
   "execution_count": 29,
   "id": "93b558ac",
   "metadata": {},
   "outputs": [],
   "source": [
    "def ewma(gw_df, groupby_col, value_cols, alpha, rename_dict, remerge_cols):\n",
    "    # Ensure the DataFrame is sorted by 'full_name' and 'gw'\n",
    "    gw_df_sorted = gw_df.sort_values([groupby_col, 'gw']).reset_index()\n",
    "\n",
    "    # Apply EWMA within each group\n",
    "    ewma_gw_df = (\n",
    "        gw_df_sorted\n",
    "        .groupby(groupby_col, group_keys=False)\n",
    "        [value_cols]\n",
    "        .apply(lambda x: x.ewm(alpha=alpha, adjust=False).mean())\n",
    "    )\n",
    "    ewma_gw_df.rename(columns=rename_dict, inplace=True)\n",
    "    ewma_gw_df = gw_df_sorted[remerge_cols].join(ewma_gw_df)\n",
    "    return ewma_gw_df"
   ]
  },
  {
   "cell_type": "code",
   "execution_count": 38,
   "id": "8fe85024",
   "metadata": {},
   "outputs": [],
   "source": [
    "def get_teams_df(gw_df):\n",
    "    gw_df_teams = gw_df[['team', 'gw', 'team_goals', 'team_points']]\n",
    "    gw_df_teams = gw_df_teams.groupby(['team', 'gw']).first().reset_index()\n",
    "    return gw_df_teams"
   ]
  },
  {
   "cell_type": "code",
   "execution_count": 39,
   "id": "dd596e05",
   "metadata": {},
   "outputs": [],
   "source": [
    "def get_teamcodes(year):\n",
    "    teams_url = f'https://raw.githubusercontent.com/vaastav/Fantasy-Premier-League/refs/heads/master/data/20{year-1}-{year}/teams.csv'\n",
    "    teams = pd.read_csv(teams_url)\n",
    "    teamcode_dict = dict(zip(teams['id'], teams['name']))\n",
    "    return teamcode_dict"
   ]
  },
  {
   "cell_type": "code",
   "execution_count": 43,
   "id": "059acb4d",
   "metadata": {},
   "outputs": [],
   "source": [
    "def merge_ewma_dfs(ewma_gw_df_players, ewma_gw_df_teams, year):\n",
    "    teamcode_dict = get_teamcodes(year)\n",
    "    ewma_gw_df_players['opponent_team_name'] = ewma_gw_df_players['opponent_team'].map(teamcode_dict)\n",
    "    ewma_gw_df = ewma_gw_df_players.merge(ewma_gw_df_teams, on=['team', 'gw'], how='left')\n",
    "\n",
    "    ewma_gw_df_opponent_team = ewma_gw_df_teams.rename(columns={'team': 'opponent_team_name', \n",
    "                                                            'ewma_team_goals': 'ewma_nw_opponent_goals',\n",
    "                                                            'ewma_team_points': 'ewma_nw_opponent_points'})\n",
    "    ewma_gw_df = ewma_gw_df.merge(ewma_gw_df_opponent_team, on=['opponent_team_name', 'gw'], how='left')\n",
    "    return ewma_gw_df"
   ]
  },
  {
   "cell_type": "code",
   "execution_count": 48,
   "id": "d3bf001b",
   "metadata": {},
   "outputs": [],
   "source": [
    "def lag_feature(ewma_gw_df, feature):\n",
    "    new_feature = (\n",
    "    ewma_gw_df\n",
    "    .sort_values(['full_name', 'gw'])\n",
    "    .groupby('full_name')[feature]\n",
    "    .shift(-1))\n",
    "    return new_feature"
   ]
  },
  {
   "cell_type": "code",
   "execution_count": 30,
   "id": "552b591c",
   "metadata": {},
   "outputs": [],
   "source": [
    "gw_df = import_data_from_vastaav(25, 38)\n",
    "gw_df = add_team_data(gw_df)"
   ]
  },
  {
   "cell_type": "code",
   "execution_count": 31,
   "id": "afc158aa",
   "metadata": {},
   "outputs": [],
   "source": [
    "gw_df['full_name'] = gw_df['name'].apply(clean_name)"
   ]
  },
  {
   "cell_type": "code",
   "execution_count": 40,
   "id": "c3068a9d",
   "metadata": {},
   "outputs": [],
   "source": [
    "alpha = 0.4"
   ]
  },
  {
   "cell_type": "code",
   "execution_count": 41,
   "id": "2a345a38",
   "metadata": {},
   "outputs": [],
   "source": [
    "player_value_cols = ['xP', 'assists', 'bonus', 'bps',\n",
    "       'clean_sheets', 'creativity', 'expected_assists',\n",
    "       'expected_goal_involvements', 'expected_goals',\n",
    "       'expected_goals_conceded', 'goals_conceded', 'goals_scored',\n",
    "       'ict_index', 'influence', 'minutes',\n",
    "       'own_goals', 'penalties_missed', 'penalties_saved',\n",
    "       'red_cards', 'saves', 'starts',\n",
    "       'threat', 'total_points', 'transfers_balance',\n",
    "       'transfers_in', 'transfers_out', 'value', 'yellow_cards']\n",
    "merge_cols_players = ['full_name', 'gw', 'total_points', 'position','team','opponent_team']\n",
    "ewma_gw_df_players = ewma(gw_df, 'full_name', player_value_cols, alpha, {'total_points': 'ewma_total_points'}, merge_cols_players)\n"
   ]
  },
  {
   "cell_type": "code",
   "execution_count": 42,
   "id": "020c2278",
   "metadata": {},
   "outputs": [],
   "source": [
    "gw_df_teams = get_teams_df(gw_df)\n",
    "team_value_cols = ['team_goals', 'team_points']\n",
    "merge_cols_teams = ['team', 'gw']\n",
    "ewma_gw_df_teams = ewma(gw_df_teams, 'team', team_value_cols, alpha, {'team_goals': 'ewma_team_goals',\n",
    "                                                                        'team_points': 'ewma_team_points'}, merge_cols_teams)"
   ]
  },
  {
   "cell_type": "code",
   "execution_count": 45,
   "id": "d10e052b",
   "metadata": {},
   "outputs": [],
   "source": [
    "merged_ewma_df = merge_ewma_dfs(ewma_gw_df_players, ewma_gw_df_teams, 25)"
   ]
  },
  {
   "cell_type": "code",
   "execution_count": 49,
   "id": "0f43ded4",
   "metadata": {},
   "outputs": [],
   "source": [
    "merged_ewma_df['nw_total_points'] = lag_feature(merged_ewma_df, 'total_points')\n",
    "merged_ewma_df['nw_opponent'] = lag_feature(merged_ewma_df, 'opponent_team_name')"
   ]
  }
 ],
 "metadata": {
  "kernelspec": {
   "display_name": "base",
   "language": "python",
   "name": "python3"
  },
  "language_info": {
   "codemirror_mode": {
    "name": "ipython",
    "version": 3
   },
   "file_extension": ".py",
   "mimetype": "text/x-python",
   "name": "python",
   "nbconvert_exporter": "python",
   "pygments_lexer": "ipython3",
   "version": "3.12.10"
  }
 },
 "nbformat": 4,
 "nbformat_minor": 5
}
