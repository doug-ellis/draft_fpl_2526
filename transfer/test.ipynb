{
 "cells": [
  {
   "cell_type": "code",
   "execution_count": 46,
   "id": "4ad2c5cb",
   "metadata": {},
   "outputs": [],
   "source": [
    "import pandas as pd\n",
    "from useful_funcs2 import *"
   ]
  },
  {
   "cell_type": "code",
   "execution_count": 47,
   "id": "206821f5",
   "metadata": {},
   "outputs": [],
   "source": [
    "# Wrangle data\n",
    "def import_data_from_vastaav(year, n_gws):\n",
    "    year_range = f'20{year-1}-{year}'\n",
    "    gw_df_list = []\n",
    "    for i in range(1, n_gws+1):\n",
    "        gw_url = f\"https://raw.githubusercontent.com/vaastav/Fantasy-Premier-League/refs/heads/master/data/{year_range}/gws/gw{i}.csv\"\n",
    "        gw_df = pd.read_csv(gw_url, index_col=0)\n",
    "        gw_df['gw'] = i\n",
    "        gw_df_list.append(gw_df)\n",
    "\n",
    "    gw_df = pd.concat(gw_df_list)\n",
    "    return gw_df.reset_index()"
   ]
  },
  {
   "cell_type": "code",
   "execution_count": 48,
   "id": "619710b0",
   "metadata": {},
   "outputs": [],
   "source": [
    "def add_team_data(gw_df):\n",
    "    gw_df['team_goals'] = gw_df.apply(lambda row: get_team_goals(row['was_home'], row['team_h_score'], row['team_a_score']), axis=1)\n",
    "    gw_df['opponent_goals'] = gw_df.apply(lambda row: get_opponent_goals(row['was_home'], row['team_h_score'], row['team_a_score']), axis=1)\n",
    "    gw_df['team_points'] = gw_df.apply(lambda row: get_team_points(row['was_home'], row['team_h_score'], row['team_a_score']), axis=1)\n",
    "    gw_df['opponent_points'] = gw_df['team_points'].apply(get_opponent_points)\n",
    "    return gw_df"
   ]
  },
  {
   "cell_type": "code",
   "execution_count": 49,
   "id": "41bd3bdb",
   "metadata": {},
   "outputs": [],
   "source": [
    "def combine_names(first_name, second_name):\n",
    "    full_name = first_name + '_' + second_name    \n",
    "    return full_name\n",
    "\n",
    "def clean_name(name):\n",
    "    name = name.replace(\" \", \"_\")\n",
    "    name = name.replace(\"-\", \"_\")\n",
    "    name = unidecode.unidecode(name)\n",
    "    return name.strip().lower()"
   ]
  },
  {
   "cell_type": "code",
   "execution_count": 50,
   "id": "93b558ac",
   "metadata": {},
   "outputs": [],
   "source": [
    "def ewma(gw_df, groupby_col, value_cols, alpha, rename_dict, remerge_cols):\n",
    "    # Ensure the DataFrame is sorted by 'full_name' and 'gw'\n",
    "    gw_df_sorted = gw_df.sort_values([groupby_col, 'gw']).reset_index()\n",
    "\n",
    "    # Apply EWMA within each group\n",
    "    ewma_gw_df = (\n",
    "        gw_df_sorted\n",
    "        .groupby(groupby_col, group_keys=False)\n",
    "        [value_cols]\n",
    "        .apply(lambda x: x.ewm(alpha=alpha, adjust=False).mean())\n",
    "    )\n",
    "    ewma_gw_df.rename(columns=rename_dict, inplace=True)\n",
    "    ewma_gw_df = gw_df_sorted[remerge_cols].join(ewma_gw_df)\n",
    "    return ewma_gw_df"
   ]
  },
  {
   "cell_type": "code",
   "execution_count": 51,
   "id": "8fe85024",
   "metadata": {},
   "outputs": [],
   "source": [
    "def get_teams_df(gw_df):\n",
    "    gw_df_teams = gw_df[['team', 'gw', 'team_goals', 'team_points']]\n",
    "    gw_df_teams = gw_df_teams.groupby(['team', 'gw']).first().reset_index()\n",
    "    return gw_df_teams"
   ]
  },
  {
   "cell_type": "code",
   "execution_count": 52,
   "id": "dd596e05",
   "metadata": {},
   "outputs": [],
   "source": [
    "def get_teamcodes(year):\n",
    "    teams_url = f'https://raw.githubusercontent.com/vaastav/Fantasy-Premier-League/refs/heads/master/data/20{year-1}-{year}/teams.csv'\n",
    "    teams = pd.read_csv(teams_url)\n",
    "    teamcode_dict = dict(zip(teams['id'], teams['name']))\n",
    "    return teamcode_dict"
   ]
  },
  {
   "cell_type": "code",
   "execution_count": 53,
   "id": "059acb4d",
   "metadata": {},
   "outputs": [],
   "source": [
    "def merge_ewma_dfs(ewma_gw_df_players, ewma_gw_df_teams, year):\n",
    "    teamcode_dict = get_teamcodes(year)\n",
    "    ewma_gw_df_players['opponent_team_name'] = ewma_gw_df_players['opponent_team'].map(teamcode_dict)\n",
    "    ewma_gw_df = ewma_gw_df_players.merge(ewma_gw_df_teams, on=['team', 'gw'], how='left')\n",
    "\n",
    "    ewma_gw_df_opponent_team = ewma_gw_df_teams.rename(columns={'team': 'opponent_team_name', \n",
    "                                                            'ewma_team_goals': 'ewma_team_goals_nw_opponent',\n",
    "                                                            'ewma_team_points': 'ewma_team_points_nw_opponent'})\n",
    "    ewma_gw_df = ewma_gw_df.merge(ewma_gw_df_opponent_team, on=['opponent_team_name', 'gw'], how='left')\n",
    "    return ewma_gw_df"
   ]
  },
  {
   "cell_type": "code",
   "execution_count": 54,
   "id": "d3bf001b",
   "metadata": {},
   "outputs": [],
   "source": [
    "def lag_feature(ewma_gw_df, feature):\n",
    "    new_feature = (\n",
    "    ewma_gw_df\n",
    "    .sort_values(['full_name', 'gw'])\n",
    "    .groupby('full_name')[feature]\n",
    "    .shift(-1))\n",
    "    return new_feature"
   ]
  },
  {
   "cell_type": "code",
   "execution_count": 55,
   "id": "485aeafb",
   "metadata": {},
   "outputs": [],
   "source": [
    "def get_ewma_df(year, gw, ewma_alpha):\n",
    "    gw_df = import_data_from_vastaav(year, gw)\n",
    "    gw_df = add_team_data(gw_df)\n",
    "\n",
    "    gw_df['full_name'] = gw_df['name'].apply(clean_name)\n",
    "\n",
    "    player_value_cols = ['xP', 'assists', 'bonus', 'bps',\n",
    "       'clean_sheets', 'creativity', 'expected_assists',\n",
    "       'expected_goal_involvements', 'expected_goals',\n",
    "       'expected_goals_conceded', 'goals_conceded', 'goals_scored',\n",
    "       'ict_index', 'influence', 'minutes',\n",
    "       'own_goals', 'penalties_missed', 'penalties_saved',\n",
    "       'red_cards', 'saves', 'starts',\n",
    "       'threat', 'total_points', 'transfers_balance',\n",
    "       'transfers_in', 'transfers_out', 'value', 'yellow_cards']\n",
    "    merge_cols_players = ['full_name', 'gw', 'total_points', 'position','team','opponent_team']\n",
    "    ewma_gw_df_players = ewma(gw_df, 'full_name', player_value_cols, ewma_alpha, {'total_points': 'ewma_total_points'}, merge_cols_players)\n",
    "\n",
    "    gw_df_teams = get_teams_df(gw_df)\n",
    "    team_value_cols = ['team_goals', 'team_points']\n",
    "    merge_cols_teams = ['team', 'gw']\n",
    "    ewma_gw_df_teams = ewma(gw_df_teams, 'team', team_value_cols, ewma_alpha, {'team_goals': 'ewma_team_goals',\n",
    "                                                                            'team_points': 'ewma_team_points'}, merge_cols_teams)\n",
    "    merged_ewma_df = merge_ewma_dfs(ewma_gw_df_players, ewma_gw_df_teams, year)\n",
    "\n",
    "    return merged_ewma_df\n"
   ]
  },
  {
   "cell_type": "code",
   "execution_count": 56,
   "id": "17af1b8d",
   "metadata": {},
   "outputs": [],
   "source": [
    "def lag_data_for_training(merged_ewma_df):\n",
    "    merged_ewma_df['total_points_nw'] = lag_feature(merged_ewma_df, 'total_points')\n",
    "    merged_ewma_df['opponent_nw'] = lag_feature(merged_ewma_df, 'opponent_team_name')\n",
    "\n",
    "    return merged_ewma_df"
   ]
  },
  {
   "cell_type": "code",
   "execution_count": 57,
   "id": "552b591c",
   "metadata": {},
   "outputs": [],
   "source": [
    "gw_df = import_data_from_vastaav(25, 38)\n",
    "gw_df = add_team_data(gw_df)"
   ]
  },
  {
   "cell_type": "code",
   "execution_count": 58,
   "id": "afc158aa",
   "metadata": {},
   "outputs": [],
   "source": [
    "gw_df['full_name'] = gw_df['name'].apply(clean_name)"
   ]
  },
  {
   "cell_type": "code",
   "execution_count": 59,
   "id": "c3068a9d",
   "metadata": {},
   "outputs": [],
   "source": [
    "alpha = 0.4"
   ]
  },
  {
   "cell_type": "code",
   "execution_count": 60,
   "id": "2a345a38",
   "metadata": {},
   "outputs": [],
   "source": [
    "player_value_cols = ['xP', 'assists', 'bonus', 'bps',\n",
    "       'clean_sheets', 'creativity', 'expected_assists',\n",
    "       'expected_goal_involvements', 'expected_goals',\n",
    "       'expected_goals_conceded', 'goals_conceded', 'goals_scored',\n",
    "       'ict_index', 'influence', 'minutes',\n",
    "       'own_goals', 'penalties_missed', 'penalties_saved',\n",
    "       'red_cards', 'saves', 'starts',\n",
    "       'threat', 'total_points', 'transfers_balance',\n",
    "       'transfers_in', 'transfers_out', 'value', 'yellow_cards']\n",
    "merge_cols_players = ['full_name', 'gw', 'total_points', 'position','team','opponent_team']\n",
    "ewma_gw_df_players = ewma(gw_df, 'full_name', player_value_cols, alpha, {'total_points': 'ewma_total_points'}, merge_cols_players)\n"
   ]
  },
  {
   "cell_type": "code",
   "execution_count": 61,
   "id": "020c2278",
   "metadata": {},
   "outputs": [],
   "source": [
    "gw_df_teams = get_teams_df(gw_df)\n",
    "team_value_cols = ['team_goals', 'team_points']\n",
    "merge_cols_teams = ['team', 'gw']\n",
    "ewma_gw_df_teams = ewma(gw_df_teams, 'team', team_value_cols, alpha, {'team_goals': 'ewma_team_goals',\n",
    "                                                                        'team_points': 'ewma_team_points'}, merge_cols_teams)"
   ]
  },
  {
   "cell_type": "code",
   "execution_count": 62,
   "id": "d10e052b",
   "metadata": {},
   "outputs": [],
   "source": [
    "merged_ewma_df = merge_ewma_dfs(ewma_gw_df_players, ewma_gw_df_teams, 25)"
   ]
  },
  {
   "cell_type": "code",
   "execution_count": 63,
   "id": "0f43ded4",
   "metadata": {},
   "outputs": [],
   "source": [
    "merged_ewma_df['total_points_nw'] = lag_feature(merged_ewma_df, 'total_points')\n",
    "merged_ewma_df['opponent_nw'] = lag_feature(merged_ewma_df, 'opponent_team_name')"
   ]
  },
  {
   "cell_type": "code",
   "execution_count": 64,
   "id": "8eb5141e",
   "metadata": {},
   "outputs": [],
   "source": [
    "# from wrangle_data import *\n",
    "import pandas as pd"
   ]
  },
  {
   "cell_type": "code",
   "execution_count": 65,
   "id": "6bd26a4d",
   "metadata": {},
   "outputs": [],
   "source": [
    "gw_df = get_ewma_df(25, 38, 0.3)\n",
    "training_df = lag_data_for_training(gw_df).dropna(subset=['total_points_nw'])"
   ]
  },
  {
   "cell_type": "code",
   "execution_count": 66,
   "id": "91d0b23c",
   "metadata": {},
   "outputs": [],
   "source": [
    "from sklearn.ensemble import RandomForestRegressor\n",
    "from sklearn.linear_model import LinearRegression\n",
    "from sklearn.metrics import mean_absolute_error, mean_squared_error, r2_score\n",
    "from sklearn.model_selection import train_test_split\n",
    "from sklearn.metrics import root_mean_squared_error\n",
    "\n",
    "\n",
    "def evaluate_model(X, y, model):\n",
    "    y_pred = model.predict(X)\n",
    "    mae = mean_absolute_error(y, y_pred)\n",
    "    rmse = root_mean_squared_error(y, y_pred)\n",
    "    r2 = r2_score(y, y_pred)\n",
    "    return mae, rmse, r2\n",
    "\n",
    "def create_model(training_df, features, model, test):\n",
    "    model_dict = {}\n",
    "    rmse_dict = {}\n",
    "    for pos in ['GK', 'DEF', 'MID', 'FWD']:\n",
    "        model = model\n",
    "        training_df_pos = training_df.query('position==@pos')\n",
    "        X = training_df_pos[features]\n",
    "        y = training_df_pos['total_points_nw']\n",
    "\n",
    "        if test is True:\n",
    "            X_train, X_test, y_train, y_test = train_test_split(X, y, test_size=0.3, random_state=42)\n",
    "            model_dict[pos] = model.fit(X_train, y_train)\n",
    "            mae, rmse, r2 = evaluate_model(X_test, y_test, model_dict[pos])\n",
    "            rmse_dict[pos] = rmse\n",
    "        else:\n",
    "            model_dict[pos] = model.fit(X, y)\n",
    "            rmse_dict[pos] = None\n",
    "    return model_dict, rmse_dict\n",
    "\n",
    "def predict_scores(prediction_df, features, model_dict):\n",
    "    for pos in ['GK', 'DEF', 'MID', 'FWD']:\n",
    "        prediction_df_pos = prediction_df.query('position==@pos')\n",
    "        X_pred = prediction_df_pos[features]\n",
    "        prediction_df.loc[prediction_df['position']==pos, 'predicted_points'] = model_dict[pos].predict(X_pred)\n",
    "    return prediction_df"
   ]
  },
  {
   "cell_type": "code",
   "execution_count": null,
   "id": "1792398e",
   "metadata": {},
   "outputs": [],
   "source": [
    "features = [\n",
    "        'assists', 'bonus', 'bps', 'clean_sheets', 'goals_conceded',\n",
    "        'goals_scored', 'influence', 'creativity', 'threat', 'ict_index',\n",
    "        'minutes', 'ewma_total_points', 'ewma_team_goals', 'ewma_team_points',\n",
    "        'ewma_team_goals_nw_opponent', 'ewma_team_points_nw_opponent']\n",
    "\n",
    "non_zero_players = training_df.groupby('full_name').sum().query('total_points_nw>0').index\n",
    "training_df_f = training_df.query('gw>1 and full_name in @non_zero_players')"
   ]
  },
  {
   "cell_type": "code",
   "execution_count": 83,
   "id": "e286139d",
   "metadata": {},
   "outputs": [
    {
     "name": "stdout",
     "output_type": "stream",
     "text": [
      "{'GK': 2.0962160119369093, 'DEF': 2.139696670607732, 'MID': 2.2385495433720943, 'FWD': 2.736262449919245}\n"
     ]
    }
   ],
   "source": [
    "model_dict, rmse_dict = create_model(training_df_f, features, LinearRegression(), test=True)\n",
    "print(rmse_dict)"
   ]
  },
  {
   "cell_type": "code",
   "execution_count": 86,
   "id": "3e908351",
   "metadata": {},
   "outputs": [
    {
     "name": "stdout",
     "output_type": "stream",
     "text": [
      "{'GK': 2.261820030265231, 'DEF': 2.172126651267967, 'MID': 2.2920581079354476, 'FWD': 2.456604004742539}\n"
     ]
    }
   ],
   "source": [
    "model_dict, rmse_dict = create_model(training_df_f, features, LinearRegression(), test=True)\n",
    "print(rmse_dict)"
   ]
  },
  {
   "cell_type": "code",
   "execution_count": null,
   "id": "75f9a8f2",
   "metadata": {},
   "outputs": [],
   "source": [
    "import requests\n",
    "year = 26\n",
    "gw = 5\n",
    "\n",
    "def get_prediction_df(year, gw):\n",
    "    prediction_df = get_ewma_df(year, gw-1, alpha).drop(['ewma_team_goals_nw_opponent', 'ewma_team_points_nw_opponent'], axis=1)\n",
    "    prediction_df = prediction_df.query(f'gw=={gw-1}')\n",
    "\n",
    "    teamcode_dict = get_teamcodes(26)\n",
    "\n",
    "    fixtures_url = 'https://fantasy.premierleague.com/api/fixtures/'\n",
    "    r = requests.get(fixtures_url).json()\n",
    "    fixtures_df = pd.json_normalize(r)\n",
    "\n",
    "    fixtures_df_gw = fixtures_df.query(f'event=={gw}')\n",
    "    h_teams = fixtures_df_gw['team_h'].map(teamcode_dict)\n",
    "    a_teams = fixtures_df_gw['team_a'].map(teamcode_dict)\n",
    "    fixture_dict = {**dict(zip(h_teams, a_teams)), **dict(zip(a_teams, h_teams))}\n",
    "\n",
    "    prediction_df['team_name_nw_opponent'] = prediction_df['team'].map(fixture_dict)\n",
    "\n",
    "    opp_team_df = prediction_df[['team', 'ewma_team_goals', 'ewma_team_points']].groupby('team').first().reset_index()\n",
    "    prediction_df = prediction_df.merge(opp_team_df, left_on='team_name_nw_opponent', right_on='team', suffixes=('', '_nw_opponent'))\n",
    "\n",
    "    return prediction_df"
   ]
  },
  {
   "cell_type": "code",
   "execution_count": null,
   "id": "21135753",
   "metadata": {},
   "outputs": [],
   "source": [
    "model_dict, rmse_dict = create_model(training_df_f, features, LinearRegression(), test=False)\n",
    "prediction_df = get_prediction_df(26, 5)\n",
    "pred_df = predict_scores(prediction_df.dropna(), features, model_dict)"
   ]
  }
 ],
 "metadata": {
  "kernelspec": {
   "display_name": "base",
   "language": "python",
   "name": "python3"
  },
  "language_info": {
   "codemirror_mode": {
    "name": "ipython",
    "version": 3
   },
   "file_extension": ".py",
   "mimetype": "text/x-python",
   "name": "python",
   "nbconvert_exporter": "python",
   "pygments_lexer": "ipython3",
   "version": "3.12.10"
  }
 },
 "nbformat": 4,
 "nbformat_minor": 5
}
