{
 "cells": [
  {
   "cell_type": "code",
   "execution_count": 24,
   "id": "db642964",
   "metadata": {},
   "outputs": [],
   "source": [
    "from wrangle_data_funcs import *\n",
    "from modelling_funcs import *\n",
    "from predict_gw_scores import *\n",
    "from sklearn.linear_model import LinearRegression, Lasso, Ridge, ElasticNet\n",
    "from sklearn.ensemble import RandomForestRegressor\n",
    "import xgboost as xgb\n",
    "import pandas as pd\n",
    "from sklearn.model_selection import train_test_split, GridSearchCV, RandomizedSearchCV, cross_val_score\n",
    "import numpy as np\n",
    "\n",
    "import seaborn as sns\n",
    "import matplotlib.pyplot as plt"
   ]
  },
  {
   "cell_type": "code",
   "execution_count": 25,
   "id": "ab37008f",
   "metadata": {},
   "outputs": [],
   "source": [
    "def get_ewma_df(year, gw, ewma_alpha):\n",
    "    gw_df = import_data_from_vastaav(year, gw)\n",
    "    gw_df = add_team_data(gw_df)\n",
    "\n",
    "    gw_df['full_name'] = gw_df['name'].apply(clean_name)\n",
    "\n",
    "    player_value_cols = ['xP', 'assists', 'bonus', 'bps',\n",
    "       'clean_sheets', 'creativity', 'expected_assists',\n",
    "       'expected_goal_involvements', 'expected_goals',\n",
    "       'expected_goals_conceded', 'goals_conceded', 'goals_scored',\n",
    "       'ict_index', 'influence', 'minutes',\n",
    "       'own_goals', 'penalties_missed', 'penalties_saved',\n",
    "       'red_cards', 'saves', 'starts',\n",
    "       'threat', 'total_points', 'transfers_balance',\n",
    "       'transfers_in', 'transfers_out', 'value', 'yellow_cards']\n",
    "    merge_cols_players = ['full_name', 'gw', 'total_points', 'position','team','opponent_team']\n",
    "    ewma_gw_df_players = ewma(gw_df, 'full_name', player_value_cols, ewma_alpha, {'total_points': 'ewma_total_points'}, merge_cols_players)\n",
    "\n",
    "    gw_df_teams = get_teams_df(gw_df)\n",
    "    team_value_cols = ['team_goals', 'team_points']\n",
    "    merge_cols_teams = ['team', 'gw']\n",
    "    ewma_gw_df_teams = ewma(gw_df_teams, 'team', team_value_cols, ewma_alpha, {'team_goals': 'ewma_team_goals',\n",
    "                                                                            'team_points': 'ewma_team_points'}, merge_cols_teams)\n",
    "    merged_ewma_df = merge_ewma_dfs(ewma_gw_df_players, ewma_gw_df_teams, year)\n",
    "    return merged_ewma_df"
   ]
  },
  {
   "cell_type": "code",
   "execution_count": 26,
   "id": "c73ea534",
   "metadata": {},
   "outputs": [],
   "source": [
    "def ewma(gw_df, groupby_col, value_cols, alpha, rename_dict, remerge_cols):\n",
    "    # Ensure the DataFrame is sorted by 'full_name' and 'gw'\n",
    "    gw_df_sorted = gw_df.sort_values([groupby_col, 'gw']).reset_index()\n",
    "\n",
    "    # Apply EWMA within each group\n",
    "    ewma_gw_df = (\n",
    "        gw_df_sorted\n",
    "        .groupby(groupby_col, group_keys=False)\n",
    "        [value_cols]\n",
    "        .apply(lambda x: x.ewm(alpha=alpha, adjust=False).mean())\n",
    "    )\n",
    "    ewma_gw_df.rename(columns=rename_dict, inplace=True)\n",
    "    ewma_gw_df = gw_df_sorted[remerge_cols].join(ewma_gw_df)\n",
    "    return ewma_gw_df"
   ]
  },
  {
   "cell_type": "code",
   "execution_count": 27,
   "id": "4ed8a7b0",
   "metadata": {},
   "outputs": [],
   "source": [
    "def roll(gw_df, groupby_col, value_cols, alpha, rename_dict, remerge_cols, rolling_gws):\n",
    "    # Ensure the DataFrame is sorted by 'full_name' and 'gw'\n",
    "    gw_df_sorted = gw_df.sort_values([groupby_col, 'gw']).reset_index()\n",
    "\n",
    "    # Apply rolling mean within each group\n",
    "    rolling_gw_df = (\n",
    "        gw_df_sorted\n",
    "        .groupby(groupby_col, group_keys=False)\n",
    "        [value_cols]\n",
    "        .apply(lambda x: x.rolling(window=rolling_gws, min_periods=1).mean())\n",
    "    )\n",
    "    rolling_gw_df.rename(columns=rename_dict, inplace=True)\n",
    "    rolling_gw_df = gw_df_sorted[remerge_cols].join(rolling_gw_df)\n",
    "    return rolling_gw_df"
   ]
  },
  {
   "cell_type": "code",
   "execution_count": 28,
   "id": "de98c67c",
   "metadata": {},
   "outputs": [],
   "source": [
    "def get_rolling_df(year, gw, ewma_alpha, rolling_gws):\n",
    "    gw_df = import_data_from_vastaav(year, gw)\n",
    "    gw_df = add_team_data(gw_df)\n",
    "\n",
    "    gw_df['full_name'] = gw_df['name'].apply(clean_name)\n",
    "\n",
    "    player_value_cols = ['xP', 'assists', 'bonus', 'bps',\n",
    "       'clean_sheets', 'creativity', 'expected_assists',\n",
    "       'expected_goal_involvements', 'expected_goals',\n",
    "       'expected_goals_conceded', 'goals_conceded', 'goals_scored',\n",
    "       'ict_index', 'influence', 'minutes',\n",
    "       'own_goals', 'penalties_missed', 'penalties_saved',\n",
    "       'red_cards', 'saves', 'starts',\n",
    "       'threat', 'total_points', 'transfers_balance',\n",
    "       'transfers_in', 'transfers_out', 'value', 'yellow_cards']\n",
    "    merge_cols_players = ['full_name', 'gw', 'total_points', 'position','team','opponent_team']\n",
    "    ewma_gw_df_players = roll(gw_df, 'full_name', player_value_cols, ewma_alpha, {'total_points': 'ewma_total_points'}, merge_cols_players, rolling_gws)\n",
    "\n",
    "    gw_df_teams = get_teams_df(gw_df)\n",
    "    team_value_cols = ['team_goals', 'team_points']\n",
    "    merge_cols_teams = ['team', 'gw']\n",
    "    ewma_gw_df_teams = roll(gw_df_teams, 'team', team_value_cols, ewma_alpha, {'team_goals': 'ewma_team_goals',\n",
    "                                                                            'team_points': 'ewma_team_points'}, merge_cols_teams, rolling_gws)\n",
    "    merged_ewma_df = merge_ewma_dfs(ewma_gw_df_players, ewma_gw_df_teams, year)\n",
    "    return merged_ewma_df"
   ]
  },
  {
   "cell_type": "code",
   "execution_count": 29,
   "id": "104546e6",
   "metadata": {},
   "outputs": [],
   "source": [
    "training_year, training_n_gws, pred_year, pred_gw, alpha, features, model, roll_gws, output = get_params()"
   ]
  },
  {
   "cell_type": "code",
   "execution_count": 30,
   "id": "aae252f2",
   "metadata": {},
   "outputs": [],
   "source": [
    "year = training_year\n",
    "n_gws = training_n_gws\n",
    "alpha = alpha"
   ]
  },
  {
   "cell_type": "code",
   "execution_count": 31,
   "id": "6dde7974",
   "metadata": {},
   "outputs": [],
   "source": [
    "ewma_df = get_ewma_df(year, n_gws, alpha)"
   ]
  },
  {
   "cell_type": "code",
   "execution_count": 32,
   "id": "f563212f",
   "metadata": {},
   "outputs": [],
   "source": [
    "roll_df = get_rolling_df(year, n_gws, alpha, rolling_gws=5)"
   ]
  },
  {
   "cell_type": "code",
   "execution_count": 33,
   "id": "02abd0a5",
   "metadata": {},
   "outputs": [],
   "source": [
    "##########"
   ]
  },
  {
   "cell_type": "code",
   "execution_count": 34,
   "id": "d7375b45",
   "metadata": {},
   "outputs": [],
   "source": [
    "# get_training_df\n",
    "year = training_year\n",
    "n_gws = training_n_gws\n",
    "alpha = alpha\n",
    "\n",
    "# gw_df = ewma_df.copy()\n",
    "gw_df = roll_df.copy()\n",
    "\n",
    "training_df = lag_data_for_training(gw_df).dropna(subset=['total_points_nw'])\n",
    "non_zero_players = training_df.groupby('full_name').sum().query('total_points_nw>0').index\n",
    "training_df_f = training_df.query('gw>1 and full_name in @non_zero_players')\n"
   ]
  },
  {
   "cell_type": "code",
   "execution_count": 35,
   "id": "7bd6a51b",
   "metadata": {},
   "outputs": [
    {
     "name": "stdout",
     "output_type": "stream",
     "text": [
      "{'GK': 2.125, 'DEF': 2.157, 'MID': 2.271, 'FWD': 2.785}\n"
     ]
    },
    {
     "data": {
      "text/plain": [
       "{'GK': 2.125, 'DEF': 2.157, 'MID': 2.271, 'FWD': 2.785}"
      ]
     },
     "execution_count": 35,
     "metadata": {},
     "output_type": "execute_result"
    }
   ],
   "source": [
    "test_model(training_df_f, features, LinearRegression)"
   ]
  },
  {
   "cell_type": "code",
   "execution_count": 39,
   "id": "ebfc1579",
   "metadata": {},
   "outputs": [],
   "source": [
    "def test_model_params(avg_type, training_gw_limit, model_func, training_year, roll_gws=np.nan):\n",
    "    _, training_n_gws, pred_year, pred_gw, alpha, features, _, roll_gws, output = get_params()\n",
    "\n",
    "    year = training_year\n",
    "    n_gws = training_n_gws\n",
    "    alpha = alpha\n",
    "    roll_gws = 5\n",
    "    if avg_type == 'ewma':\n",
    "        gw_df = get_ewma_df(year, n_gws, alpha)\n",
    "    elif avg_type == 'rolling':\n",
    "        gw_df = get_rolling_df(year, n_gws, alpha, rolling_gws=roll_gws)\n",
    "\n",
    "    training_df = lag_data_for_training(gw_df).dropna(subset=['total_points_nw'])\n",
    "    non_zero_players = training_df.groupby('full_name').sum().query('total_points_nw>0').index\n",
    "    training_df_f = training_df.query('gw>@training_gw_limit and full_name in @non_zero_players')\n",
    "\n",
    "    rmse_dict = test_model(training_df_f, features, model_func)\n",
    "    return rmse_dict, {'avg_type': avg_type, \n",
    "                       'roll_gws': roll_gws, \n",
    "                       'training_gw_limit': training_gw_limit, \n",
    "                       'training_year': training_year, \n",
    "                       'model_func': model_func}"
   ]
  },
  {
   "cell_type": "code",
   "execution_count": 40,
   "id": "de082a07",
   "metadata": {},
   "outputs": [
    {
     "name": "stdout",
     "output_type": "stream",
     "text": [
      "{'GK': 1.966, 'DEF': 2.197, 'MID': 2.404, 'FWD': 2.5}\n"
     ]
    }
   ],
   "source": [
    "rmse_dict, model_params_dict = test_model_params('ewma', 10, LinearRegression, 25, 3)\n",
    "df_dict = model_params_dict | rmse_dict"
   ]
  },
  {
   "cell_type": "code",
   "execution_count": 41,
   "id": "0ef83e84",
   "metadata": {},
   "outputs": [
    {
     "name": "stdout",
     "output_type": "stream",
     "text": [
      "<class 'sklearn.linear_model._base.LinearRegression'>\n",
      "{'GK': 1.969, 'DEF': 2.216, 'MID': 2.441, 'FWD': 2.545}\n",
      "<class 'sklearn.linear_model._ridge.Ridge'>\n",
      "{'GK': 1.946, 'DEF': 2.215, 'MID': 2.44, 'FWD': 2.54}\n",
      "<class 'sklearn.linear_model._coordinate_descent.Lasso'>\n",
      "{'GK': 1.94, 'DEF': 2.22, 'MID': 2.442, 'FWD': 2.51}\n",
      "<class 'sklearn.linear_model._coordinate_descent.ElasticNet'>\n",
      "{'GK': 1.936, 'DEF': 2.218, 'MID': 2.438, 'FWD': 2.52}\n"
     ]
    }
   ],
   "source": [
    "df_dicts = []\n",
    "for model in [LinearRegression, Ridge, Lasso, ElasticNet]:\n",
    "    print(model)\n",
    "    rmse_dict, model_params_dict = test_model_params('rolling', 10, model, 25, 5)\n",
    "    df_dict = model_params_dict | rmse_dict\n",
    "    \n",
    "    df_dicts.append(df_dict)\n",
    "\n",
    "results_df2 = pd.DataFrame(df_dicts, index=['LinearRegression', 'Ridge', 'Lasso', 'ElasticNet'])"
   ]
  },
  {
   "cell_type": "code",
   "execution_count": null,
   "id": "0648a6b5",
   "metadata": {},
   "outputs": [],
   "source": [
    "results_df['avg_rmse'] = (results_df['GK'] + results_df['DEF'] + results_df['MID'] + results_df['FWD']) / 4"
   ]
  },
  {
   "cell_type": "code",
   "execution_count": 42,
   "id": "83ce618c",
   "metadata": {},
   "outputs": [],
   "source": [
    "results_df2['avg_rmse'] = (results_df2['GK'] + results_df2['DEF'] + results_df2['MID'] + results_df2['FWD']) / 4"
   ]
  },
  {
   "cell_type": "code",
   "execution_count": 46,
   "id": "8ea14e09",
   "metadata": {},
   "outputs": [
    {
     "data": {
      "text/html": [
       "<div>\n",
       "<style scoped>\n",
       "    .dataframe tbody tr th:only-of-type {\n",
       "        vertical-align: middle;\n",
       "    }\n",
       "\n",
       "    .dataframe tbody tr th {\n",
       "        vertical-align: top;\n",
       "    }\n",
       "\n",
       "    .dataframe thead th {\n",
       "        text-align: right;\n",
       "    }\n",
       "</style>\n",
       "<table border=\"1\" class=\"dataframe\">\n",
       "  <thead>\n",
       "    <tr style=\"text-align: right;\">\n",
       "      <th></th>\n",
       "      <th>avg_type</th>\n",
       "      <th>roll_gws</th>\n",
       "      <th>training_gw_limit</th>\n",
       "      <th>training_year</th>\n",
       "      <th>model_func</th>\n",
       "      <th>GK</th>\n",
       "      <th>DEF</th>\n",
       "      <th>MID</th>\n",
       "      <th>FWD</th>\n",
       "      <th>avg_rmse</th>\n",
       "    </tr>\n",
       "  </thead>\n",
       "  <tbody>\n",
       "    <tr>\n",
       "      <th>LinearRegression</th>\n",
       "      <td>ewma</td>\n",
       "      <td>rolling</td>\n",
       "      <td>10</td>\n",
       "      <td>25</td>\n",
       "      <td>&lt;class 'sklearn.linear_model._base.LinearRegre...</td>\n",
       "      <td>1.966</td>\n",
       "      <td>2.197</td>\n",
       "      <td>2.404</td>\n",
       "      <td>2.500</td>\n",
       "      <td>2.26675</td>\n",
       "    </tr>\n",
       "    <tr>\n",
       "      <th>Ridge</th>\n",
       "      <td>ewma</td>\n",
       "      <td>rolling</td>\n",
       "      <td>10</td>\n",
       "      <td>25</td>\n",
       "      <td>&lt;class 'sklearn.linear_model._ridge.Ridge'&gt;</td>\n",
       "      <td>1.958</td>\n",
       "      <td>2.196</td>\n",
       "      <td>2.402</td>\n",
       "      <td>2.504</td>\n",
       "      <td>2.26500</td>\n",
       "    </tr>\n",
       "    <tr>\n",
       "      <th>Lasso</th>\n",
       "      <td>ewma</td>\n",
       "      <td>rolling</td>\n",
       "      <td>10</td>\n",
       "      <td>25</td>\n",
       "      <td>&lt;class 'sklearn.linear_model._coordinate_desce...</td>\n",
       "      <td>1.955</td>\n",
       "      <td>2.202</td>\n",
       "      <td>2.404</td>\n",
       "      <td>2.492</td>\n",
       "      <td>2.26325</td>\n",
       "    </tr>\n",
       "    <tr>\n",
       "      <th>ElasticNet</th>\n",
       "      <td>ewma</td>\n",
       "      <td>rolling</td>\n",
       "      <td>10</td>\n",
       "      <td>25</td>\n",
       "      <td>&lt;class 'sklearn.linear_model._coordinate_desce...</td>\n",
       "      <td>1.951</td>\n",
       "      <td>2.200</td>\n",
       "      <td>2.401</td>\n",
       "      <td>2.498</td>\n",
       "      <td>2.26250</td>\n",
       "    </tr>\n",
       "  </tbody>\n",
       "</table>\n",
       "</div>"
      ],
      "text/plain": [
       "                 avg_type roll_gws  training_gw_limit  training_year  \\\n",
       "LinearRegression     ewma  rolling                 10             25   \n",
       "Ridge                ewma  rolling                 10             25   \n",
       "Lasso                ewma  rolling                 10             25   \n",
       "ElasticNet           ewma  rolling                 10             25   \n",
       "\n",
       "                                                         model_func     GK  \\\n",
       "LinearRegression  <class 'sklearn.linear_model._base.LinearRegre...  1.966   \n",
       "Ridge                   <class 'sklearn.linear_model._ridge.Ridge'>  1.958   \n",
       "Lasso             <class 'sklearn.linear_model._coordinate_desce...  1.955   \n",
       "ElasticNet        <class 'sklearn.linear_model._coordinate_desce...  1.951   \n",
       "\n",
       "                    DEF    MID    FWD  avg_rmse  \n",
       "LinearRegression  2.197  2.404  2.500   2.26675  \n",
       "Ridge             2.196  2.402  2.504   2.26500  \n",
       "Lasso             2.202  2.404  2.492   2.26325  \n",
       "ElasticNet        2.200  2.401  2.498   2.26250  "
      ]
     },
     "execution_count": 46,
     "metadata": {},
     "output_type": "execute_result"
    }
   ],
   "source": [
    "results_df"
   ]
  },
  {
   "cell_type": "code",
   "execution_count": null,
   "id": "fbd3a3e0",
   "metadata": {},
   "outputs": [
    {
     "name": "stderr",
     "output_type": "stream",
     "text": [
      "c:\\Users\\dellis2\\OneDrive - Illumina, Inc\\Documents\\fpl\\draft_fpl_2526\\transfer\\wrangle_data_funcs.py:15: FutureWarning: The behavior of DataFrame concatenation with empty or all-NA entries is deprecated. In a future version, this will no longer exclude empty or all-NA columns when determining the result dtypes. To retain the old behavior, exclude the relevant entries before the concat operation.\n",
      "  gw_df = pd.concat(gw_df_list)\n"
     ]
    },
    {
     "name": "stdout",
     "output_type": "stream",
     "text": [
      "{'GK': 2.525, 'DEF': 2.29, 'MID': 2.283, 'FWD': 2.808}\n",
      "{'GK': 2.111, 'DEF': 2.319, 'MID': 2.353, 'FWD': 2.441}\n",
      "{'GK': 2.096, 'DEF': 2.14, 'MID': 2.239, 'FWD': 2.736}\n"
     ]
    },
    {
     "name": "stderr",
     "output_type": "stream",
     "text": [
      "c:\\Users\\dellis2\\OneDrive - Illumina, Inc\\Documents\\fpl\\draft_fpl_2526\\transfer\\wrangle_data_funcs.py:15: FutureWarning: The behavior of DataFrame concatenation with empty or all-NA entries is deprecated. In a future version, this will no longer exclude empty or all-NA columns when determining the result dtypes. To retain the old behavior, exclude the relevant entries before the concat operation.\n",
      "  gw_df = pd.concat(gw_df_list)\n"
     ]
    },
    {
     "name": "stdout",
     "output_type": "stream",
     "text": [
      "{'GK': 2.687, 'DEF': 2.255, 'MID': 2.299, 'FWD': 2.946}\n",
      "{'GK': 2.219, 'DEF': 2.327, 'MID': 2.374, 'FWD': 2.51}\n",
      "{'GK': 2.244, 'DEF': 2.148, 'MID': 2.262, 'FWD': 2.785}\n"
     ]
    },
    {
     "name": "stderr",
     "output_type": "stream",
     "text": [
      "c:\\Users\\dellis2\\OneDrive - Illumina, Inc\\Documents\\fpl\\draft_fpl_2526\\transfer\\wrangle_data_funcs.py:15: FutureWarning: The behavior of DataFrame concatenation with empty or all-NA entries is deprecated. In a future version, this will no longer exclude empty or all-NA columns when determining the result dtypes. To retain the old behavior, exclude the relevant entries before the concat operation.\n",
      "  gw_df = pd.concat(gw_df_list)\n"
     ]
    },
    {
     "name": "stdout",
     "output_type": "stream",
     "text": [
      "{'GK': 2.19, 'DEF': 2.31, 'MID': 2.19, 'FWD': 2.62}\n",
      "{'GK': 2.039, 'DEF': 2.248, 'MID': 2.247, 'FWD': 2.296}\n",
      "{'GK': 2.131, 'DEF': 2.111, 'MID': 2.246, 'FWD': 2.69}\n"
     ]
    },
    {
     "name": "stderr",
     "output_type": "stream",
     "text": [
      "c:\\Users\\dellis2\\OneDrive - Illumina, Inc\\Documents\\fpl\\draft_fpl_2526\\transfer\\wrangle_data_funcs.py:15: FutureWarning: The behavior of DataFrame concatenation with empty or all-NA entries is deprecated. In a future version, this will no longer exclude empty or all-NA columns when determining the result dtypes. To retain the old behavior, exclude the relevant entries before the concat operation.\n",
      "  gw_df = pd.concat(gw_df_list)\n"
     ]
    },
    {
     "name": "stdout",
     "output_type": "stream",
     "text": [
      "{'GK': 2.251, 'DEF': 2.283, 'MID': 2.225, 'FWD': 2.738}\n",
      "{'GK': 2.104, 'DEF': 2.215, 'MID': 2.26, 'FWD': 2.379}\n",
      "{'GK': 2.291, 'DEF': 2.104, 'MID': 2.269, 'FWD': 2.722}\n"
     ]
    },
    {
     "name": "stderr",
     "output_type": "stream",
     "text": [
      "c:\\Users\\dellis2\\OneDrive - Illumina, Inc\\Documents\\fpl\\draft_fpl_2526\\transfer\\wrangle_data_funcs.py:15: FutureWarning: The behavior of DataFrame concatenation with empty or all-NA entries is deprecated. In a future version, this will no longer exclude empty or all-NA columns when determining the result dtypes. To retain the old behavior, exclude the relevant entries before the concat operation.\n",
      "  gw_df = pd.concat(gw_df_list)\n"
     ]
    },
    {
     "name": "stdout",
     "output_type": "stream",
     "text": [
      "{'GK': 2.44, 'DEF': 2.191, 'MID': 2.298, 'FWD': 2.669}\n",
      "{'GK': 2.099, 'DEF': 2.373, 'MID': 2.379, 'FWD': 2.715}\n",
      "{'GK': 2.152, 'DEF': 2.201, 'MID': 2.315, 'FWD': 2.643}\n"
     ]
    },
    {
     "name": "stderr",
     "output_type": "stream",
     "text": [
      "c:\\Users\\dellis2\\OneDrive - Illumina, Inc\\Documents\\fpl\\draft_fpl_2526\\transfer\\wrangle_data_funcs.py:15: FutureWarning: The behavior of DataFrame concatenation with empty or all-NA entries is deprecated. In a future version, this will no longer exclude empty or all-NA columns when determining the result dtypes. To retain the old behavior, exclude the relevant entries before the concat operation.\n",
      "  gw_df = pd.concat(gw_df_list)\n"
     ]
    },
    {
     "name": "stdout",
     "output_type": "stream",
     "text": [
      "{'GK': 2.643, 'DEF': 2.159, 'MID': 2.313, 'FWD': 2.854}\n",
      "{'GK': 2.169, 'DEF': 2.38, 'MID': 2.393, 'FWD': 2.879}\n",
      "{'GK': 2.207, 'DEF': 2.203, 'MID': 2.341, 'FWD': 2.802}\n"
     ]
    },
    {
     "name": "stderr",
     "output_type": "stream",
     "text": [
      "c:\\Users\\dellis2\\OneDrive - Illumina, Inc\\Documents\\fpl\\draft_fpl_2526\\transfer\\wrangle_data_funcs.py:15: FutureWarning: The behavior of DataFrame concatenation with empty or all-NA entries is deprecated. In a future version, this will no longer exclude empty or all-NA columns when determining the result dtypes. To retain the old behavior, exclude the relevant entries before the concat operation.\n",
      "  gw_df = pd.concat(gw_df_list)\n"
     ]
    },
    {
     "name": "stdout",
     "output_type": "stream",
     "text": [
      "{'GK': 2.332, 'DEF': 2.298, 'MID': 2.063, 'FWD': 2.614}\n",
      "{'GK': 2.236, 'DEF': 2.274, 'MID': 2.287, 'FWD': 2.591}\n",
      "{'GK': 1.966, 'DEF': 2.197, 'MID': 2.404, 'FWD': 2.5}\n"
     ]
    },
    {
     "name": "stderr",
     "output_type": "stream",
     "text": [
      "c:\\Users\\dellis2\\OneDrive - Illumina, Inc\\Documents\\fpl\\draft_fpl_2526\\transfer\\wrangle_data_funcs.py:15: FutureWarning: The behavior of DataFrame concatenation with empty or all-NA entries is deprecated. In a future version, this will no longer exclude empty or all-NA columns when determining the result dtypes. To retain the old behavior, exclude the relevant entries before the concat operation.\n",
      "  gw_df = pd.concat(gw_df_list)\n"
     ]
    },
    {
     "name": "stdout",
     "output_type": "stream",
     "text": [
      "{'GK': 2.417, 'DEF': 2.281, 'MID': 2.088, 'FWD': 2.686}\n",
      "{'GK': 2.331, 'DEF': 2.293, 'MID': 2.341, 'FWD': 2.671}\n",
      "{'GK': 2.039, 'DEF': 2.163, 'MID': 2.449, 'FWD': 2.553}\n"
     ]
    },
    {
     "name": "stderr",
     "output_type": "stream",
     "text": [
      "c:\\Users\\dellis2\\OneDrive - Illumina, Inc\\Documents\\fpl\\draft_fpl_2526\\transfer\\wrangle_data_funcs.py:15: FutureWarning: The behavior of DataFrame concatenation with empty or all-NA entries is deprecated. In a future version, this will no longer exclude empty or all-NA columns when determining the result dtypes. To retain the old behavior, exclude the relevant entries before the concat operation.\n",
      "  gw_df = pd.concat(gw_df_list)\n"
     ]
    },
    {
     "name": "stdout",
     "output_type": "stream",
     "text": [
      "{'GK': 2.542, 'DEF': 2.305, 'MID': 2.304, 'FWD': 2.843}\n"
     ]
    },
    {
     "name": "stderr",
     "output_type": "stream",
     "text": [
      "c:\\Users\\dellis2\\OneDrive - Illumina, Inc\\Documents\\fpl\\draft_fpl_2526\\transfer\\wrangle_data_funcs.py:15: FutureWarning: The behavior of DataFrame concatenation with empty or all-NA entries is deprecated. In a future version, this will no longer exclude empty or all-NA columns when determining the result dtypes. To retain the old behavior, exclude the relevant entries before the concat operation.\n",
      "  gw_df = pd.concat(gw_df_list)\n"
     ]
    },
    {
     "name": "stdout",
     "output_type": "stream",
     "text": [
      "{'GK': 2.56, 'DEF': 2.311, 'MID': 2.303, 'FWD': 2.833}\n"
     ]
    },
    {
     "name": "stderr",
     "output_type": "stream",
     "text": [
      "c:\\Users\\dellis2\\OneDrive - Illumina, Inc\\Documents\\fpl\\draft_fpl_2526\\transfer\\wrangle_data_funcs.py:15: FutureWarning: The behavior of DataFrame concatenation with empty or all-NA entries is deprecated. In a future version, this will no longer exclude empty or all-NA columns when determining the result dtypes. To retain the old behavior, exclude the relevant entries before the concat operation.\n",
      "  gw_df = pd.concat(gw_df_list)\n"
     ]
    },
    {
     "name": "stdout",
     "output_type": "stream",
     "text": [
      "{'GK': 2.566, 'DEF': 2.31, 'MID': 2.315, 'FWD': 2.858}\n",
      "{'GK': 2.142, 'DEF': 2.318, 'MID': 2.37, 'FWD': 2.467}\n",
      "{'GK': 2.136, 'DEF': 2.335, 'MID': 2.38, 'FWD': 2.477}\n",
      "{'GK': 2.136, 'DEF': 2.337, 'MID': 2.381, 'FWD': 2.477}\n",
      "{'GK': 2.06, 'DEF': 2.148, 'MID': 2.26, 'FWD': 2.758}\n",
      "{'GK': 2.125, 'DEF': 2.157, 'MID': 2.271, 'FWD': 2.785}\n",
      "{'GK': 2.176, 'DEF': 2.168, 'MID': 2.268, 'FWD': 2.771}\n"
     ]
    },
    {
     "name": "stderr",
     "output_type": "stream",
     "text": [
      "c:\\Users\\dellis2\\OneDrive - Illumina, Inc\\Documents\\fpl\\draft_fpl_2526\\transfer\\wrangle_data_funcs.py:15: FutureWarning: The behavior of DataFrame concatenation with empty or all-NA entries is deprecated. In a future version, this will no longer exclude empty or all-NA columns when determining the result dtypes. To retain the old behavior, exclude the relevant entries before the concat operation.\n",
      "  gw_df = pd.concat(gw_df_list)\n"
     ]
    },
    {
     "name": "stdout",
     "output_type": "stream",
     "text": [
      "{'GK': 2.606, 'DEF': 2.314, 'MID': 2.336, 'FWD': 2.87}\n"
     ]
    },
    {
     "name": "stderr",
     "output_type": "stream",
     "text": [
      "c:\\Users\\dellis2\\OneDrive - Illumina, Inc\\Documents\\fpl\\draft_fpl_2526\\transfer\\wrangle_data_funcs.py:15: FutureWarning: The behavior of DataFrame concatenation with empty or all-NA entries is deprecated. In a future version, this will no longer exclude empty or all-NA columns when determining the result dtypes. To retain the old behavior, exclude the relevant entries before the concat operation.\n",
      "  gw_df = pd.concat(gw_df_list)\n"
     ]
    },
    {
     "name": "stdout",
     "output_type": "stream",
     "text": [
      "{'GK': 2.683, 'DEF': 2.316, 'MID': 2.306, 'FWD': 2.94}\n"
     ]
    },
    {
     "name": "stderr",
     "output_type": "stream",
     "text": [
      "c:\\Users\\dellis2\\OneDrive - Illumina, Inc\\Documents\\fpl\\draft_fpl_2526\\transfer\\wrangle_data_funcs.py:15: FutureWarning: The behavior of DataFrame concatenation with empty or all-NA entries is deprecated. In a future version, this will no longer exclude empty or all-NA columns when determining the result dtypes. To retain the old behavior, exclude the relevant entries before the concat operation.\n",
      "  gw_df = pd.concat(gw_df_list)\n"
     ]
    },
    {
     "name": "stdout",
     "output_type": "stream",
     "text": [
      "{'GK': 2.674, 'DEF': 2.283, 'MID': 2.338, 'FWD': 2.919}\n",
      "{'GK': 2.216, 'DEF': 2.334, 'MID': 2.42, 'FWD': 2.59}\n",
      "{'GK': 2.182, 'DEF': 2.359, 'MID': 2.439, 'FWD': 2.606}\n",
      "{'GK': 2.204, 'DEF': 2.336, 'MID': 2.433, 'FWD': 2.567}\n",
      "{'GK': 2.122, 'DEF': 2.147, 'MID': 2.268, 'FWD': 2.727}\n",
      "{'GK': 2.182, 'DEF': 2.154, 'MID': 2.297, 'FWD': 2.844}\n",
      "{'GK': 2.247, 'DEF': 2.17, 'MID': 2.281, 'FWD': 2.914}\n"
     ]
    },
    {
     "name": "stderr",
     "output_type": "stream",
     "text": [
      "c:\\Users\\dellis2\\OneDrive - Illumina, Inc\\Documents\\fpl\\draft_fpl_2526\\transfer\\wrangle_data_funcs.py:15: FutureWarning: The behavior of DataFrame concatenation with empty or all-NA entries is deprecated. In a future version, this will no longer exclude empty or all-NA columns when determining the result dtypes. To retain the old behavior, exclude the relevant entries before the concat operation.\n",
      "  gw_df = pd.concat(gw_df_list)\n"
     ]
    },
    {
     "name": "stdout",
     "output_type": "stream",
     "text": [
      "{'GK': 2.155, 'DEF': 2.315, 'MID': 2.201, 'FWD': 2.67}\n"
     ]
    },
    {
     "name": "stderr",
     "output_type": "stream",
     "text": [
      "c:\\Users\\dellis2\\OneDrive - Illumina, Inc\\Documents\\fpl\\draft_fpl_2526\\transfer\\wrangle_data_funcs.py:15: FutureWarning: The behavior of DataFrame concatenation with empty or all-NA entries is deprecated. In a future version, this will no longer exclude empty or all-NA columns when determining the result dtypes. To retain the old behavior, exclude the relevant entries before the concat operation.\n",
      "  gw_df = pd.concat(gw_df_list)\n"
     ]
    },
    {
     "name": "stdout",
     "output_type": "stream",
     "text": [
      "{'GK': 2.198, 'DEF': 2.332, 'MID': 2.216, 'FWD': 2.641}\n"
     ]
    },
    {
     "name": "stderr",
     "output_type": "stream",
     "text": [
      "c:\\Users\\dellis2\\OneDrive - Illumina, Inc\\Documents\\fpl\\draft_fpl_2526\\transfer\\wrangle_data_funcs.py:15: FutureWarning: The behavior of DataFrame concatenation with empty or all-NA entries is deprecated. In a future version, this will no longer exclude empty or all-NA columns when determining the result dtypes. To retain the old behavior, exclude the relevant entries before the concat operation.\n",
      "  gw_df = pd.concat(gw_df_list)\n"
     ]
    },
    {
     "name": "stdout",
     "output_type": "stream",
     "text": [
      "{'GK': 2.212, 'DEF': 2.349, 'MID': 2.23, 'FWD': 2.633}\n",
      "{'GK': 2.057, 'DEF': 2.263, 'MID': 2.26, 'FWD': 2.286}\n",
      "{'GK': 2.099, 'DEF': 2.265, 'MID': 2.26, 'FWD': 2.329}\n",
      "{'GK': 2.091, 'DEF': 2.276, 'MID': 2.281, 'FWD': 2.356}\n",
      "{'GK': 2.134, 'DEF': 2.12, 'MID': 2.269, 'FWD': 2.716}\n",
      "{'GK': 2.171, 'DEF': 2.13, 'MID': 2.281, 'FWD': 2.737}\n",
      "{'GK': 2.194, 'DEF': 2.14, 'MID': 2.273, 'FWD': 2.719}\n"
     ]
    },
    {
     "name": "stderr",
     "output_type": "stream",
     "text": [
      "c:\\Users\\dellis2\\OneDrive - Illumina, Inc\\Documents\\fpl\\draft_fpl_2526\\transfer\\wrangle_data_funcs.py:15: FutureWarning: The behavior of DataFrame concatenation with empty or all-NA entries is deprecated. In a future version, this will no longer exclude empty or all-NA columns when determining the result dtypes. To retain the old behavior, exclude the relevant entries before the concat operation.\n",
      "  gw_df = pd.concat(gw_df_list)\n"
     ]
    },
    {
     "name": "stdout",
     "output_type": "stream",
     "text": [
      "{'GK': 2.297, 'DEF': 2.326, 'MID': 2.233, 'FWD': 2.691}\n"
     ]
    },
    {
     "name": "stderr",
     "output_type": "stream",
     "text": [
      "c:\\Users\\dellis2\\OneDrive - Illumina, Inc\\Documents\\fpl\\draft_fpl_2526\\transfer\\wrangle_data_funcs.py:15: FutureWarning: The behavior of DataFrame concatenation with empty or all-NA entries is deprecated. In a future version, this will no longer exclude empty or all-NA columns when determining the result dtypes. To retain the old behavior, exclude the relevant entries before the concat operation.\n",
      "  gw_df = pd.concat(gw_df_list)\n"
     ]
    },
    {
     "name": "stdout",
     "output_type": "stream",
     "text": [
      "{'GK': 2.388, 'DEF': 2.343, 'MID': 2.247, 'FWD': 2.693}\n"
     ]
    },
    {
     "name": "stderr",
     "output_type": "stream",
     "text": [
      "c:\\Users\\dellis2\\OneDrive - Illumina, Inc\\Documents\\fpl\\draft_fpl_2526\\transfer\\wrangle_data_funcs.py:15: FutureWarning: The behavior of DataFrame concatenation with empty or all-NA entries is deprecated. In a future version, this will no longer exclude empty or all-NA columns when determining the result dtypes. To retain the old behavior, exclude the relevant entries before the concat operation.\n",
      "  gw_df = pd.concat(gw_df_list)\n"
     ]
    },
    {
     "name": "stdout",
     "output_type": "stream",
     "text": [
      "{'GK': 2.318, 'DEF': 2.329, 'MID': 2.267, 'FWD': 2.686}\n",
      "{'GK': 2.179, 'DEF': 2.25, 'MID': 2.306, 'FWD': 2.441}\n",
      "{'GK': 2.135, 'DEF': 2.271, 'MID': 2.293, 'FWD': 2.4}\n",
      "{'GK': 2.109, 'DEF': 2.279, 'MID': 2.32, 'FWD': 2.432}\n",
      "{'GK': 2.127, 'DEF': 2.119, 'MID': 2.253, 'FWD': 2.748}\n",
      "{'GK': 2.226, 'DEF': 2.124, 'MID': 2.286, 'FWD': 2.847}\n",
      "{'GK': 2.224, 'DEF': 2.147, 'MID': 2.296, 'FWD': 2.803}\n"
     ]
    },
    {
     "name": "stderr",
     "output_type": "stream",
     "text": [
      "c:\\Users\\dellis2\\OneDrive - Illumina, Inc\\Documents\\fpl\\draft_fpl_2526\\transfer\\wrangle_data_funcs.py:15: FutureWarning: The behavior of DataFrame concatenation with empty or all-NA entries is deprecated. In a future version, this will no longer exclude empty or all-NA columns when determining the result dtypes. To retain the old behavior, exclude the relevant entries before the concat operation.\n",
      "  gw_df = pd.concat(gw_df_list)\n"
     ]
    },
    {
     "name": "stdout",
     "output_type": "stream",
     "text": [
      "{'GK': 2.492, 'DEF': 2.198, 'MID': 2.315, 'FWD': 2.727}\n"
     ]
    },
    {
     "name": "stderr",
     "output_type": "stream",
     "text": [
      "c:\\Users\\dellis2\\OneDrive - Illumina, Inc\\Documents\\fpl\\draft_fpl_2526\\transfer\\wrangle_data_funcs.py:15: FutureWarning: The behavior of DataFrame concatenation with empty or all-NA entries is deprecated. In a future version, this will no longer exclude empty or all-NA columns when determining the result dtypes. To retain the old behavior, exclude the relevant entries before the concat operation.\n",
      "  gw_df = pd.concat(gw_df_list)\n"
     ]
    },
    {
     "name": "stdout",
     "output_type": "stream",
     "text": [
      "{'GK': 2.473, 'DEF': 2.212, 'MID': 2.323, 'FWD': 2.681}\n"
     ]
    },
    {
     "name": "stderr",
     "output_type": "stream",
     "text": [
      "c:\\Users\\dellis2\\OneDrive - Illumina, Inc\\Documents\\fpl\\draft_fpl_2526\\transfer\\wrangle_data_funcs.py:15: FutureWarning: The behavior of DataFrame concatenation with empty or all-NA entries is deprecated. In a future version, this will no longer exclude empty or all-NA columns when determining the result dtypes. To retain the old behavior, exclude the relevant entries before the concat operation.\n",
      "  gw_df = pd.concat(gw_df_list)\n"
     ]
    },
    {
     "name": "stdout",
     "output_type": "stream",
     "text": [
      "{'GK': 2.461, 'DEF': 2.22, 'MID': 2.326, 'FWD': 2.704}\n",
      "{'GK': 2.095, 'DEF': 2.38, 'MID': 2.395, 'FWD': 2.726}\n",
      "{'GK': 2.13, 'DEF': 2.39, 'MID': 2.404, 'FWD': 2.751}\n",
      "{'GK': 2.15, 'DEF': 2.406, 'MID': 2.418, 'FWD': 2.765}\n",
      "{'GK': 2.139, 'DEF': 2.213, 'MID': 2.326, 'FWD': 2.691}\n",
      "{'GK': 2.153, 'DEF': 2.225, 'MID': 2.345, 'FWD': 2.679}\n",
      "{'GK': 2.163, 'DEF': 2.222, 'MID': 2.353, 'FWD': 2.711}\n"
     ]
    },
    {
     "name": "stderr",
     "output_type": "stream",
     "text": [
      "c:\\Users\\dellis2\\OneDrive - Illumina, Inc\\Documents\\fpl\\draft_fpl_2526\\transfer\\wrangle_data_funcs.py:15: FutureWarning: The behavior of DataFrame concatenation with empty or all-NA entries is deprecated. In a future version, this will no longer exclude empty or all-NA columns when determining the result dtypes. To retain the old behavior, exclude the relevant entries before the concat operation.\n",
      "  gw_df = pd.concat(gw_df_list)\n"
     ]
    },
    {
     "name": "stdout",
     "output_type": "stream",
     "text": [
      "{'GK': 2.513, 'DEF': 2.19, 'MID': 2.338, 'FWD': 2.831}\n"
     ]
    },
    {
     "name": "stderr",
     "output_type": "stream",
     "text": [
      "c:\\Users\\dellis2\\OneDrive - Illumina, Inc\\Documents\\fpl\\draft_fpl_2526\\transfer\\wrangle_data_funcs.py:15: FutureWarning: The behavior of DataFrame concatenation with empty or all-NA entries is deprecated. In a future version, this will no longer exclude empty or all-NA columns when determining the result dtypes. To retain the old behavior, exclude the relevant entries before the concat operation.\n",
      "  gw_df = pd.concat(gw_df_list)\n"
     ]
    },
    {
     "name": "stdout",
     "output_type": "stream",
     "text": [
      "{'GK': 2.622, 'DEF': 2.212, 'MID': 2.335, 'FWD': 2.79}\n"
     ]
    },
    {
     "name": "stderr",
     "output_type": "stream",
     "text": [
      "c:\\Users\\dellis2\\OneDrive - Illumina, Inc\\Documents\\fpl\\draft_fpl_2526\\transfer\\wrangle_data_funcs.py:15: FutureWarning: The behavior of DataFrame concatenation with empty or all-NA entries is deprecated. In a future version, this will no longer exclude empty or all-NA columns when determining the result dtypes. To retain the old behavior, exclude the relevant entries before the concat operation.\n",
      "  gw_df = pd.concat(gw_df_list)\n"
     ]
    },
    {
     "name": "stdout",
     "output_type": "stream",
     "text": [
      "{'GK': 2.557, 'DEF': 2.203, 'MID': 2.335, 'FWD': 2.748}\n",
      "{'GK': 2.131, 'DEF': 2.406, 'MID': 2.437, 'FWD': 2.824}\n",
      "{'GK': 2.139, 'DEF': 2.402, 'MID': 2.423, 'FWD': 2.972}\n",
      "{'GK': 2.186, 'DEF': 2.421, 'MID': 2.442, 'FWD': 2.868}\n",
      "{'GK': 2.216, 'DEF': 2.245, 'MID': 2.353, 'FWD': 2.783}\n",
      "{'GK': 2.228, 'DEF': 2.214, 'MID': 2.362, 'FWD': 2.742}\n",
      "{'GK': 2.252, 'DEF': 2.256, 'MID': 2.379, 'FWD': 2.749}\n"
     ]
    },
    {
     "name": "stderr",
     "output_type": "stream",
     "text": [
      "c:\\Users\\dellis2\\OneDrive - Illumina, Inc\\Documents\\fpl\\draft_fpl_2526\\transfer\\wrangle_data_funcs.py:15: FutureWarning: The behavior of DataFrame concatenation with empty or all-NA entries is deprecated. In a future version, this will no longer exclude empty or all-NA columns when determining the result dtypes. To retain the old behavior, exclude the relevant entries before the concat operation.\n",
      "  gw_df = pd.concat(gw_df_list)\n"
     ]
    },
    {
     "name": "stdout",
     "output_type": "stream",
     "text": [
      "{'GK': 2.357, 'DEF': 2.308, 'MID': 2.092, 'FWD': 2.63}\n"
     ]
    },
    {
     "name": "stderr",
     "output_type": "stream",
     "text": [
      "c:\\Users\\dellis2\\OneDrive - Illumina, Inc\\Documents\\fpl\\draft_fpl_2526\\transfer\\wrangle_data_funcs.py:15: FutureWarning: The behavior of DataFrame concatenation with empty or all-NA entries is deprecated. In a future version, this will no longer exclude empty or all-NA columns when determining the result dtypes. To retain the old behavior, exclude the relevant entries before the concat operation.\n",
      "  gw_df = pd.concat(gw_df_list)\n"
     ]
    },
    {
     "name": "stdout",
     "output_type": "stream",
     "text": [
      "{'GK': 2.337, 'DEF': 2.326, 'MID': 2.089, 'FWD': 2.649}\n"
     ]
    },
    {
     "name": "stderr",
     "output_type": "stream",
     "text": [
      "c:\\Users\\dellis2\\OneDrive - Illumina, Inc\\Documents\\fpl\\draft_fpl_2526\\transfer\\wrangle_data_funcs.py:15: FutureWarning: The behavior of DataFrame concatenation with empty or all-NA entries is deprecated. In a future version, this will no longer exclude empty or all-NA columns when determining the result dtypes. To retain the old behavior, exclude the relevant entries before the concat operation.\n",
      "  gw_df = pd.concat(gw_df_list)\n"
     ]
    },
    {
     "name": "stdout",
     "output_type": "stream",
     "text": [
      "{'GK': 2.355, 'DEF': 2.331, 'MID': 2.092, 'FWD': 2.639}\n",
      "{'GK': 2.226, 'DEF': 2.278, 'MID': 2.32, 'FWD': 2.593}\n",
      "{'GK': 2.221, 'DEF': 2.298, 'MID': 2.312, 'FWD': 2.636}\n",
      "{'GK': 2.236, 'DEF': 2.308, 'MID': 2.32, 'FWD': 2.645}\n",
      "{'GK': 1.994, 'DEF': 2.197, 'MID': 2.436, 'FWD': 2.528}\n",
      "{'GK': 1.969, 'DEF': 2.216, 'MID': 2.441, 'FWD': 2.545}\n",
      "{'GK': 1.991, 'DEF': 2.23, 'MID': 2.429, 'FWD': 2.546}\n"
     ]
    },
    {
     "name": "stderr",
     "output_type": "stream",
     "text": [
      "c:\\Users\\dellis2\\OneDrive - Illumina, Inc\\Documents\\fpl\\draft_fpl_2526\\transfer\\wrangle_data_funcs.py:15: FutureWarning: The behavior of DataFrame concatenation with empty or all-NA entries is deprecated. In a future version, this will no longer exclude empty or all-NA columns when determining the result dtypes. To retain the old behavior, exclude the relevant entries before the concat operation.\n",
      "  gw_df = pd.concat(gw_df_list)\n"
     ]
    },
    {
     "name": "stdout",
     "output_type": "stream",
     "text": [
      "{'GK': 2.443, 'DEF': 2.322, 'MID': 2.116, 'FWD': 2.685}\n"
     ]
    },
    {
     "name": "stderr",
     "output_type": "stream",
     "text": [
      "c:\\Users\\dellis2\\OneDrive - Illumina, Inc\\Documents\\fpl\\draft_fpl_2526\\transfer\\wrangle_data_funcs.py:15: FutureWarning: The behavior of DataFrame concatenation with empty or all-NA entries is deprecated. In a future version, this will no longer exclude empty or all-NA columns when determining the result dtypes. To retain the old behavior, exclude the relevant entries before the concat operation.\n",
      "  gw_df = pd.concat(gw_df_list)\n"
     ]
    },
    {
     "name": "stdout",
     "output_type": "stream",
     "text": [
      "{'GK': 2.485, 'DEF': 2.328, 'MID': 2.126, 'FWD': 2.701}\n"
     ]
    },
    {
     "name": "stderr",
     "output_type": "stream",
     "text": [
      "c:\\Users\\dellis2\\OneDrive - Illumina, Inc\\Documents\\fpl\\draft_fpl_2526\\transfer\\wrangle_data_funcs.py:15: FutureWarning: The behavior of DataFrame concatenation with empty or all-NA entries is deprecated. In a future version, this will no longer exclude empty or all-NA columns when determining the result dtypes. To retain the old behavior, exclude the relevant entries before the concat operation.\n",
      "  gw_df = pd.concat(gw_df_list)\n"
     ]
    },
    {
     "name": "stdout",
     "output_type": "stream",
     "text": [
      "{'GK': 2.505, 'DEF': 2.337, 'MID': 2.112, 'FWD': 2.702}\n",
      "{'GK': 2.353, 'DEF': 2.286, 'MID': 2.398, 'FWD': 2.743}\n",
      "{'GK': 2.326, 'DEF': 2.318, 'MID': 2.349, 'FWD': 2.706}\n",
      "{'GK': 2.366, 'DEF': 2.331, 'MID': 2.386, 'FWD': 2.737}\n",
      "{'GK': 2.021, 'DEF': 2.192, 'MID': 2.453, 'FWD': 2.625}\n",
      "{'GK': 2.076, 'DEF': 2.222, 'MID': 2.447, 'FWD': 2.665}\n",
      "{'GK': 2.101, 'DEF': 2.248, 'MID': 2.431, 'FWD': 2.646}\n"
     ]
    }
   ],
   "source": [
    "df_dicts = []\n",
    "for avg_type in ['ewma', 'rolling']:\n",
    "    for training_gw_limit in [1, 3, 5, 10]:\n",
    "        for model in [LinearRegression, XGBRegressor, Lasso, ElasticNet]:\n",
    "            for training_year in [23, 24, 25]:\n",
    "                if avg_type == 'ewma':\n",
    "                    roll_gws = np.nan\n",
    "                    rmse_dict, model_params_dict = test_model_params(avg_type, training_gw_limit, model, training_year, roll_gws)\n",
    "                    df_dict = model_params_dict | rmse_dict\n",
    "                    df_dicts.append(df_dict)\n",
    "                elif avg_type == 'rolling':\n",
    "                    for roll_gws in [3, 5, 7]:\n",
    "                        rmse_dict, model_params_dict = test_model_params(avg_type, training_gw_limit, model, training_year, roll_gws)\n",
    "                        df_dict = model_params_dict | rmse_dict\n",
    "                        df_dicts.append(df_dict)\n",
    "        "
   ]
  },
  {
   "cell_type": "code",
   "execution_count": null,
   "id": "1c0c0d7a",
   "metadata": {},
   "outputs": [],
   "source": [
    "model_compare = pd.DataFrame(df_dicts, index=[i for i in range(len(df_dicts))])"
   ]
  },
  {
   "cell_type": "code",
   "execution_count": null,
   "id": "982c8648",
   "metadata": {},
   "outputs": [],
   "source": [
    "model_compare['mean_rmse'] = (model_compare['GK'] + model_compare['DEF'] + model_compare['MID'] + model_compare['FWD'])/4"
   ]
  },
  {
   "cell_type": "code",
   "execution_count": null,
   "id": "8614049c",
   "metadata": {},
   "outputs": [],
   "source": [
    "model_compare25 = model_compare.query('training_year==25')\n",
    "model_compare24 = model_compare.query('training_year==24')\n",
    "model_compare23 = model_compare.query('training_year==23')"
   ]
  },
  {
   "cell_type": "code",
   "execution_count": null,
   "id": "f9ed7885",
   "metadata": {},
   "outputs": [
    {
     "data": {
      "text/html": [
       "<div>\n",
       "<style scoped>\n",
       "    .dataframe tbody tr th:only-of-type {\n",
       "        vertical-align: middle;\n",
       "    }\n",
       "\n",
       "    .dataframe tbody tr th {\n",
       "        vertical-align: top;\n",
       "    }\n",
       "\n",
       "    .dataframe thead th {\n",
       "        text-align: right;\n",
       "    }\n",
       "</style>\n",
       "<table border=\"1\" class=\"dataframe\">\n",
       "  <thead>\n",
       "    <tr style=\"text-align: right;\">\n",
       "      <th></th>\n",
       "      <th>avg_type</th>\n",
       "      <th>roll_gws</th>\n",
       "      <th>training_gw_limit</th>\n",
       "      <th>training_year</th>\n",
       "      <th>model_func</th>\n",
       "      <th>GK</th>\n",
       "      <th>DEF</th>\n",
       "      <th>MID</th>\n",
       "      <th>FWD</th>\n",
       "      <th>mean_rmse</th>\n",
       "    </tr>\n",
       "  </thead>\n",
       "  <tbody>\n",
       "    <tr>\n",
       "      <th>20</th>\n",
       "      <td>ewma</td>\n",
       "      <td>NaN</td>\n",
       "      <td>10</td>\n",
       "      <td>25</td>\n",
       "      <td>&lt;class 'sklearn.linear_model._base.LinearRegre...</td>\n",
       "      <td>1.966</td>\n",
       "      <td>2.197</td>\n",
       "      <td>2.404</td>\n",
       "      <td>2.500</td>\n",
       "      <td>2.26675</td>\n",
       "    </tr>\n",
       "    <tr>\n",
       "      <th>84</th>\n",
       "      <td>rolling</td>\n",
       "      <td>3.0</td>\n",
       "      <td>10</td>\n",
       "      <td>25</td>\n",
       "      <td>&lt;class 'sklearn.linear_model._base.LinearRegre...</td>\n",
       "      <td>1.994</td>\n",
       "      <td>2.197</td>\n",
       "      <td>2.436</td>\n",
       "      <td>2.528</td>\n",
       "      <td>2.28875</td>\n",
       "    </tr>\n",
       "    <tr>\n",
       "      <th>85</th>\n",
       "      <td>rolling</td>\n",
       "      <td>5.0</td>\n",
       "      <td>10</td>\n",
       "      <td>25</td>\n",
       "      <td>&lt;class 'sklearn.linear_model._base.LinearRegre...</td>\n",
       "      <td>1.969</td>\n",
       "      <td>2.216</td>\n",
       "      <td>2.441</td>\n",
       "      <td>2.545</td>\n",
       "      <td>2.29275</td>\n",
       "    </tr>\n",
       "    <tr>\n",
       "      <th>8</th>\n",
       "      <td>ewma</td>\n",
       "      <td>NaN</td>\n",
       "      <td>3</td>\n",
       "      <td>25</td>\n",
       "      <td>&lt;class 'sklearn.linear_model._base.LinearRegre...</td>\n",
       "      <td>2.131</td>\n",
       "      <td>2.111</td>\n",
       "      <td>2.246</td>\n",
       "      <td>2.690</td>\n",
       "      <td>2.29450</td>\n",
       "    </tr>\n",
       "    <tr>\n",
       "      <th>86</th>\n",
       "      <td>rolling</td>\n",
       "      <td>7.0</td>\n",
       "      <td>10</td>\n",
       "      <td>25</td>\n",
       "      <td>&lt;class 'sklearn.linear_model._base.LinearRegre...</td>\n",
       "      <td>1.991</td>\n",
       "      <td>2.230</td>\n",
       "      <td>2.429</td>\n",
       "      <td>2.546</td>\n",
       "      <td>2.29900</td>\n",
       "    </tr>\n",
       "    <tr>\n",
       "      <th>23</th>\n",
       "      <td>ewma</td>\n",
       "      <td>NaN</td>\n",
       "      <td>10</td>\n",
       "      <td>25</td>\n",
       "      <td>&lt;class 'xgboost.sklearn.XGBRegressor'&gt;</td>\n",
       "      <td>2.039</td>\n",
       "      <td>2.163</td>\n",
       "      <td>2.449</td>\n",
       "      <td>2.553</td>\n",
       "      <td>2.30100</td>\n",
       "    </tr>\n",
       "    <tr>\n",
       "      <th>2</th>\n",
       "      <td>ewma</td>\n",
       "      <td>NaN</td>\n",
       "      <td>1</td>\n",
       "      <td>25</td>\n",
       "      <td>&lt;class 'sklearn.linear_model._base.LinearRegre...</td>\n",
       "      <td>2.096</td>\n",
       "      <td>2.140</td>\n",
       "      <td>2.239</td>\n",
       "      <td>2.736</td>\n",
       "      <td>2.30275</td>\n",
       "    </tr>\n",
       "    <tr>\n",
       "      <th>30</th>\n",
       "      <td>rolling</td>\n",
       "      <td>3.0</td>\n",
       "      <td>1</td>\n",
       "      <td>25</td>\n",
       "      <td>&lt;class 'sklearn.linear_model._base.LinearRegre...</td>\n",
       "      <td>2.060</td>\n",
       "      <td>2.148</td>\n",
       "      <td>2.260</td>\n",
       "      <td>2.758</td>\n",
       "      <td>2.30650</td>\n",
       "    </tr>\n",
       "    <tr>\n",
       "      <th>48</th>\n",
       "      <td>rolling</td>\n",
       "      <td>3.0</td>\n",
       "      <td>3</td>\n",
       "      <td>25</td>\n",
       "      <td>&lt;class 'sklearn.linear_model._base.LinearRegre...</td>\n",
       "      <td>2.134</td>\n",
       "      <td>2.120</td>\n",
       "      <td>2.269</td>\n",
       "      <td>2.716</td>\n",
       "      <td>2.30975</td>\n",
       "    </tr>\n",
       "    <tr>\n",
       "      <th>57</th>\n",
       "      <td>rolling</td>\n",
       "      <td>3.0</td>\n",
       "      <td>3</td>\n",
       "      <td>25</td>\n",
       "      <td>&lt;class 'xgboost.sklearn.XGBRegressor'&gt;</td>\n",
       "      <td>2.127</td>\n",
       "      <td>2.119</td>\n",
       "      <td>2.253</td>\n",
       "      <td>2.748</td>\n",
       "      <td>2.31175</td>\n",
       "    </tr>\n",
       "  </tbody>\n",
       "</table>\n",
       "</div>"
      ],
      "text/plain": [
       "   avg_type  roll_gws  training_gw_limit  training_year  \\\n",
       "20     ewma       NaN                 10             25   \n",
       "84  rolling       3.0                 10             25   \n",
       "85  rolling       5.0                 10             25   \n",
       "8      ewma       NaN                  3             25   \n",
       "86  rolling       7.0                 10             25   \n",
       "23     ewma       NaN                 10             25   \n",
       "2      ewma       NaN                  1             25   \n",
       "30  rolling       3.0                  1             25   \n",
       "48  rolling       3.0                  3             25   \n",
       "57  rolling       3.0                  3             25   \n",
       "\n",
       "                                           model_func     GK    DEF    MID  \\\n",
       "20  <class 'sklearn.linear_model._base.LinearRegre...  1.966  2.197  2.404   \n",
       "84  <class 'sklearn.linear_model._base.LinearRegre...  1.994  2.197  2.436   \n",
       "85  <class 'sklearn.linear_model._base.LinearRegre...  1.969  2.216  2.441   \n",
       "8   <class 'sklearn.linear_model._base.LinearRegre...  2.131  2.111  2.246   \n",
       "86  <class 'sklearn.linear_model._base.LinearRegre...  1.991  2.230  2.429   \n",
       "23             <class 'xgboost.sklearn.XGBRegressor'>  2.039  2.163  2.449   \n",
       "2   <class 'sklearn.linear_model._base.LinearRegre...  2.096  2.140  2.239   \n",
       "30  <class 'sklearn.linear_model._base.LinearRegre...  2.060  2.148  2.260   \n",
       "48  <class 'sklearn.linear_model._base.LinearRegre...  2.134  2.120  2.269   \n",
       "57             <class 'xgboost.sklearn.XGBRegressor'>  2.127  2.119  2.253   \n",
       "\n",
       "      FWD  mean_rmse  \n",
       "20  2.500    2.26675  \n",
       "84  2.528    2.28875  \n",
       "85  2.545    2.29275  \n",
       "8   2.690    2.29450  \n",
       "86  2.546    2.29900  \n",
       "23  2.553    2.30100  \n",
       "2   2.736    2.30275  \n",
       "30  2.758    2.30650  \n",
       "48  2.716    2.30975  \n",
       "57  2.748    2.31175  "
      ]
     },
     "execution_count": 107,
     "metadata": {},
     "output_type": "execute_result"
    }
   ],
   "source": [
    "model_compare25.sort_values('mean_rmse').head(10)"
   ]
  },
  {
   "cell_type": "code",
   "execution_count": null,
   "id": "e57fa2a3",
   "metadata": {},
   "outputs": [
    {
     "data": {
      "text/html": [
       "<div>\n",
       "<style scoped>\n",
       "    .dataframe tbody tr th:only-of-type {\n",
       "        vertical-align: middle;\n",
       "    }\n",
       "\n",
       "    .dataframe tbody tr th {\n",
       "        vertical-align: top;\n",
       "    }\n",
       "\n",
       "    .dataframe thead th {\n",
       "        text-align: right;\n",
       "    }\n",
       "</style>\n",
       "<table border=\"1\" class=\"dataframe\">\n",
       "  <thead>\n",
       "    <tr style=\"text-align: right;\">\n",
       "      <th></th>\n",
       "      <th>avg_type</th>\n",
       "      <th>roll_gws</th>\n",
       "      <th>training_gw_limit</th>\n",
       "      <th>training_year</th>\n",
       "      <th>model_func</th>\n",
       "      <th>GK</th>\n",
       "      <th>DEF</th>\n",
       "      <th>MID</th>\n",
       "      <th>FWD</th>\n",
       "      <th>mean_rmse</th>\n",
       "    </tr>\n",
       "  </thead>\n",
       "  <tbody>\n",
       "    <tr>\n",
       "      <th>7</th>\n",
       "      <td>ewma</td>\n",
       "      <td>NaN</td>\n",
       "      <td>3</td>\n",
       "      <td>24</td>\n",
       "      <td>&lt;class 'sklearn.linear_model._base.LinearRegre...</td>\n",
       "      <td>2.039</td>\n",
       "      <td>2.248</td>\n",
       "      <td>2.247</td>\n",
       "      <td>2.296</td>\n",
       "      <td>2.20750</td>\n",
       "    </tr>\n",
       "    <tr>\n",
       "      <th>45</th>\n",
       "      <td>rolling</td>\n",
       "      <td>3.0</td>\n",
       "      <td>3</td>\n",
       "      <td>24</td>\n",
       "      <td>&lt;class 'sklearn.linear_model._base.LinearRegre...</td>\n",
       "      <td>2.057</td>\n",
       "      <td>2.263</td>\n",
       "      <td>2.260</td>\n",
       "      <td>2.286</td>\n",
       "      <td>2.21650</td>\n",
       "    </tr>\n",
       "    <tr>\n",
       "      <th>46</th>\n",
       "      <td>rolling</td>\n",
       "      <td>5.0</td>\n",
       "      <td>3</td>\n",
       "      <td>24</td>\n",
       "      <td>&lt;class 'sklearn.linear_model._base.LinearRegre...</td>\n",
       "      <td>2.099</td>\n",
       "      <td>2.265</td>\n",
       "      <td>2.260</td>\n",
       "      <td>2.329</td>\n",
       "      <td>2.23825</td>\n",
       "    </tr>\n",
       "    <tr>\n",
       "      <th>10</th>\n",
       "      <td>ewma</td>\n",
       "      <td>NaN</td>\n",
       "      <td>3</td>\n",
       "      <td>24</td>\n",
       "      <td>&lt;class 'xgboost.sklearn.XGBRegressor'&gt;</td>\n",
       "      <td>2.104</td>\n",
       "      <td>2.215</td>\n",
       "      <td>2.260</td>\n",
       "      <td>2.379</td>\n",
       "      <td>2.23950</td>\n",
       "    </tr>\n",
       "    <tr>\n",
       "      <th>47</th>\n",
       "      <td>rolling</td>\n",
       "      <td>7.0</td>\n",
       "      <td>3</td>\n",
       "      <td>24</td>\n",
       "      <td>&lt;class 'sklearn.linear_model._base.LinearRegre...</td>\n",
       "      <td>2.091</td>\n",
       "      <td>2.276</td>\n",
       "      <td>2.281</td>\n",
       "      <td>2.356</td>\n",
       "      <td>2.25100</td>\n",
       "    </tr>\n",
       "    <tr>\n",
       "      <th>55</th>\n",
       "      <td>rolling</td>\n",
       "      <td>5.0</td>\n",
       "      <td>3</td>\n",
       "      <td>24</td>\n",
       "      <td>&lt;class 'xgboost.sklearn.XGBRegressor'&gt;</td>\n",
       "      <td>2.135</td>\n",
       "      <td>2.271</td>\n",
       "      <td>2.293</td>\n",
       "      <td>2.400</td>\n",
       "      <td>2.27475</td>\n",
       "    </tr>\n",
       "    <tr>\n",
       "      <th>56</th>\n",
       "      <td>rolling</td>\n",
       "      <td>7.0</td>\n",
       "      <td>3</td>\n",
       "      <td>24</td>\n",
       "      <td>&lt;class 'xgboost.sklearn.XGBRegressor'&gt;</td>\n",
       "      <td>2.109</td>\n",
       "      <td>2.279</td>\n",
       "      <td>2.320</td>\n",
       "      <td>2.432</td>\n",
       "      <td>2.28500</td>\n",
       "    </tr>\n",
       "    <tr>\n",
       "      <th>54</th>\n",
       "      <td>rolling</td>\n",
       "      <td>3.0</td>\n",
       "      <td>3</td>\n",
       "      <td>24</td>\n",
       "      <td>&lt;class 'xgboost.sklearn.XGBRegressor'&gt;</td>\n",
       "      <td>2.179</td>\n",
       "      <td>2.250</td>\n",
       "      <td>2.306</td>\n",
       "      <td>2.441</td>\n",
       "      <td>2.29400</td>\n",
       "    </tr>\n",
       "    <tr>\n",
       "      <th>1</th>\n",
       "      <td>ewma</td>\n",
       "      <td>NaN</td>\n",
       "      <td>1</td>\n",
       "      <td>24</td>\n",
       "      <td>&lt;class 'sklearn.linear_model._base.LinearRegre...</td>\n",
       "      <td>2.111</td>\n",
       "      <td>2.319</td>\n",
       "      <td>2.353</td>\n",
       "      <td>2.441</td>\n",
       "      <td>2.30600</td>\n",
       "    </tr>\n",
       "    <tr>\n",
       "      <th>27</th>\n",
       "      <td>rolling</td>\n",
       "      <td>3.0</td>\n",
       "      <td>1</td>\n",
       "      <td>24</td>\n",
       "      <td>&lt;class 'sklearn.linear_model._base.LinearRegre...</td>\n",
       "      <td>2.142</td>\n",
       "      <td>2.318</td>\n",
       "      <td>2.370</td>\n",
       "      <td>2.467</td>\n",
       "      <td>2.32425</td>\n",
       "    </tr>\n",
       "  </tbody>\n",
       "</table>\n",
       "</div>"
      ],
      "text/plain": [
       "   avg_type  roll_gws  training_gw_limit  training_year  \\\n",
       "7      ewma       NaN                  3             24   \n",
       "45  rolling       3.0                  3             24   \n",
       "46  rolling       5.0                  3             24   \n",
       "10     ewma       NaN                  3             24   \n",
       "47  rolling       7.0                  3             24   \n",
       "55  rolling       5.0                  3             24   \n",
       "56  rolling       7.0                  3             24   \n",
       "54  rolling       3.0                  3             24   \n",
       "1      ewma       NaN                  1             24   \n",
       "27  rolling       3.0                  1             24   \n",
       "\n",
       "                                           model_func     GK    DEF    MID  \\\n",
       "7   <class 'sklearn.linear_model._base.LinearRegre...  2.039  2.248  2.247   \n",
       "45  <class 'sklearn.linear_model._base.LinearRegre...  2.057  2.263  2.260   \n",
       "46  <class 'sklearn.linear_model._base.LinearRegre...  2.099  2.265  2.260   \n",
       "10             <class 'xgboost.sklearn.XGBRegressor'>  2.104  2.215  2.260   \n",
       "47  <class 'sklearn.linear_model._base.LinearRegre...  2.091  2.276  2.281   \n",
       "55             <class 'xgboost.sklearn.XGBRegressor'>  2.135  2.271  2.293   \n",
       "56             <class 'xgboost.sklearn.XGBRegressor'>  2.109  2.279  2.320   \n",
       "54             <class 'xgboost.sklearn.XGBRegressor'>  2.179  2.250  2.306   \n",
       "1   <class 'sklearn.linear_model._base.LinearRegre...  2.111  2.319  2.353   \n",
       "27  <class 'sklearn.linear_model._base.LinearRegre...  2.142  2.318  2.370   \n",
       "\n",
       "      FWD  mean_rmse  \n",
       "7   2.296    2.20750  \n",
       "45  2.286    2.21650  \n",
       "46  2.329    2.23825  \n",
       "10  2.379    2.23950  \n",
       "47  2.356    2.25100  \n",
       "55  2.400    2.27475  \n",
       "56  2.432    2.28500  \n",
       "54  2.441    2.29400  \n",
       "1   2.441    2.30600  \n",
       "27  2.467    2.32425  "
      ]
     },
     "execution_count": 108,
     "metadata": {},
     "output_type": "execute_result"
    }
   ],
   "source": [
    "model_compare24.sort_values('mean_rmse').head(10)"
   ]
  },
  {
   "cell_type": "code",
   "execution_count": null,
   "id": "1832d96d",
   "metadata": {},
   "outputs": [
    {
     "data": {
      "text/html": [
       "<div>\n",
       "<style scoped>\n",
       "    .dataframe tbody tr th:only-of-type {\n",
       "        vertical-align: middle;\n",
       "    }\n",
       "\n",
       "    .dataframe tbody tr th {\n",
       "        vertical-align: top;\n",
       "    }\n",
       "\n",
       "    .dataframe thead th {\n",
       "        text-align: right;\n",
       "    }\n",
       "</style>\n",
       "<table border=\"1\" class=\"dataframe\">\n",
       "  <thead>\n",
       "    <tr style=\"text-align: right;\">\n",
       "      <th></th>\n",
       "      <th>avg_type</th>\n",
       "      <th>roll_gws</th>\n",
       "      <th>training_gw_limit</th>\n",
       "      <th>training_year</th>\n",
       "      <th>model_func</th>\n",
       "      <th>GK</th>\n",
       "      <th>DEF</th>\n",
       "      <th>MID</th>\n",
       "      <th>FWD</th>\n",
       "      <th>mean_rmse</th>\n",
       "    </tr>\n",
       "  </thead>\n",
       "  <tbody>\n",
       "    <tr>\n",
       "      <th>18</th>\n",
       "      <td>ewma</td>\n",
       "      <td>NaN</td>\n",
       "      <td>10</td>\n",
       "      <td>23</td>\n",
       "      <td>&lt;class 'sklearn.linear_model._base.LinearRegre...</td>\n",
       "      <td>2.332</td>\n",
       "      <td>2.298</td>\n",
       "      <td>2.063</td>\n",
       "      <td>2.614</td>\n",
       "      <td>2.32675</td>\n",
       "    </tr>\n",
       "    <tr>\n",
       "      <th>6</th>\n",
       "      <td>ewma</td>\n",
       "      <td>NaN</td>\n",
       "      <td>3</td>\n",
       "      <td>23</td>\n",
       "      <td>&lt;class 'sklearn.linear_model._base.LinearRegre...</td>\n",
       "      <td>2.190</td>\n",
       "      <td>2.310</td>\n",
       "      <td>2.190</td>\n",
       "      <td>2.620</td>\n",
       "      <td>2.32750</td>\n",
       "    </tr>\n",
       "    <tr>\n",
       "      <th>42</th>\n",
       "      <td>rolling</td>\n",
       "      <td>3.0</td>\n",
       "      <td>3</td>\n",
       "      <td>23</td>\n",
       "      <td>&lt;class 'sklearn.linear_model._base.LinearRegre...</td>\n",
       "      <td>2.155</td>\n",
       "      <td>2.315</td>\n",
       "      <td>2.201</td>\n",
       "      <td>2.670</td>\n",
       "      <td>2.33525</td>\n",
       "    </tr>\n",
       "    <tr>\n",
       "      <th>43</th>\n",
       "      <td>rolling</td>\n",
       "      <td>5.0</td>\n",
       "      <td>3</td>\n",
       "      <td>23</td>\n",
       "      <td>&lt;class 'sklearn.linear_model._base.LinearRegre...</td>\n",
       "      <td>2.198</td>\n",
       "      <td>2.332</td>\n",
       "      <td>2.216</td>\n",
       "      <td>2.641</td>\n",
       "      <td>2.34675</td>\n",
       "    </tr>\n",
       "    <tr>\n",
       "      <th>78</th>\n",
       "      <td>rolling</td>\n",
       "      <td>3.0</td>\n",
       "      <td>10</td>\n",
       "      <td>23</td>\n",
       "      <td>&lt;class 'sklearn.linear_model._base.LinearRegre...</td>\n",
       "      <td>2.357</td>\n",
       "      <td>2.308</td>\n",
       "      <td>2.092</td>\n",
       "      <td>2.630</td>\n",
       "      <td>2.34675</td>\n",
       "    </tr>\n",
       "    <tr>\n",
       "      <th>79</th>\n",
       "      <td>rolling</td>\n",
       "      <td>5.0</td>\n",
       "      <td>10</td>\n",
       "      <td>23</td>\n",
       "      <td>&lt;class 'sklearn.linear_model._base.LinearRegre...</td>\n",
       "      <td>2.337</td>\n",
       "      <td>2.326</td>\n",
       "      <td>2.089</td>\n",
       "      <td>2.649</td>\n",
       "      <td>2.35025</td>\n",
       "    </tr>\n",
       "    <tr>\n",
       "      <th>80</th>\n",
       "      <td>rolling</td>\n",
       "      <td>7.0</td>\n",
       "      <td>10</td>\n",
       "      <td>23</td>\n",
       "      <td>&lt;class 'sklearn.linear_model._base.LinearRegre...</td>\n",
       "      <td>2.355</td>\n",
       "      <td>2.331</td>\n",
       "      <td>2.092</td>\n",
       "      <td>2.639</td>\n",
       "      <td>2.35425</td>\n",
       "    </tr>\n",
       "    <tr>\n",
       "      <th>44</th>\n",
       "      <td>rolling</td>\n",
       "      <td>7.0</td>\n",
       "      <td>3</td>\n",
       "      <td>23</td>\n",
       "      <td>&lt;class 'sklearn.linear_model._base.LinearRegre...</td>\n",
       "      <td>2.212</td>\n",
       "      <td>2.349</td>\n",
       "      <td>2.230</td>\n",
       "      <td>2.633</td>\n",
       "      <td>2.35600</td>\n",
       "    </tr>\n",
       "    <tr>\n",
       "      <th>21</th>\n",
       "      <td>ewma</td>\n",
       "      <td>NaN</td>\n",
       "      <td>10</td>\n",
       "      <td>23</td>\n",
       "      <td>&lt;class 'xgboost.sklearn.XGBRegressor'&gt;</td>\n",
       "      <td>2.417</td>\n",
       "      <td>2.281</td>\n",
       "      <td>2.088</td>\n",
       "      <td>2.686</td>\n",
       "      <td>2.36800</td>\n",
       "    </tr>\n",
       "    <tr>\n",
       "      <th>9</th>\n",
       "      <td>ewma</td>\n",
       "      <td>NaN</td>\n",
       "      <td>3</td>\n",
       "      <td>23</td>\n",
       "      <td>&lt;class 'xgboost.sklearn.XGBRegressor'&gt;</td>\n",
       "      <td>2.251</td>\n",
       "      <td>2.283</td>\n",
       "      <td>2.225</td>\n",
       "      <td>2.738</td>\n",
       "      <td>2.37425</td>\n",
       "    </tr>\n",
       "  </tbody>\n",
       "</table>\n",
       "</div>"
      ],
      "text/plain": [
       "   avg_type  roll_gws  training_gw_limit  training_year  \\\n",
       "18     ewma       NaN                 10             23   \n",
       "6      ewma       NaN                  3             23   \n",
       "42  rolling       3.0                  3             23   \n",
       "43  rolling       5.0                  3             23   \n",
       "78  rolling       3.0                 10             23   \n",
       "79  rolling       5.0                 10             23   \n",
       "80  rolling       7.0                 10             23   \n",
       "44  rolling       7.0                  3             23   \n",
       "21     ewma       NaN                 10             23   \n",
       "9      ewma       NaN                  3             23   \n",
       "\n",
       "                                           model_func     GK    DEF    MID  \\\n",
       "18  <class 'sklearn.linear_model._base.LinearRegre...  2.332  2.298  2.063   \n",
       "6   <class 'sklearn.linear_model._base.LinearRegre...  2.190  2.310  2.190   \n",
       "42  <class 'sklearn.linear_model._base.LinearRegre...  2.155  2.315  2.201   \n",
       "43  <class 'sklearn.linear_model._base.LinearRegre...  2.198  2.332  2.216   \n",
       "78  <class 'sklearn.linear_model._base.LinearRegre...  2.357  2.308  2.092   \n",
       "79  <class 'sklearn.linear_model._base.LinearRegre...  2.337  2.326  2.089   \n",
       "80  <class 'sklearn.linear_model._base.LinearRegre...  2.355  2.331  2.092   \n",
       "44  <class 'sklearn.linear_model._base.LinearRegre...  2.212  2.349  2.230   \n",
       "21             <class 'xgboost.sklearn.XGBRegressor'>  2.417  2.281  2.088   \n",
       "9              <class 'xgboost.sklearn.XGBRegressor'>  2.251  2.283  2.225   \n",
       "\n",
       "      FWD  mean_rmse  \n",
       "18  2.614    2.32675  \n",
       "6   2.620    2.32750  \n",
       "42  2.670    2.33525  \n",
       "43  2.641    2.34675  \n",
       "78  2.630    2.34675  \n",
       "79  2.649    2.35025  \n",
       "80  2.639    2.35425  \n",
       "44  2.633    2.35600  \n",
       "21  2.686    2.36800  \n",
       "9   2.738    2.37425  "
      ]
     },
     "execution_count": 109,
     "metadata": {},
     "output_type": "execute_result"
    }
   ],
   "source": [
    "model_compare23.sort_values('mean_rmse').head(10)"
   ]
  },
  {
   "cell_type": "code",
   "execution_count": null,
   "id": "4e4d5511",
   "metadata": {},
   "outputs": [],
   "source": [
    "# Create a DataFrame from the new set of dictionaries\n",
    "dicts2 = {\n",
    "    'lin_roll_3': {'GK': 2.06, 'DEF': 2.148, 'MID': 2.26, 'FWD': 2.758},\n",
    "    'lin_roll_5': {'GK': 2.125, 'DEF': 2.157, 'MID': 2.271, 'FWD': 2.785},\n",
    "    'lin_ewma':   {'GK': 2.096, 'DEF': 2.14,  'MID': 2.239, 'FWD': 2.736},\n",
    "    'xgb_ewma':   {'GK': 2.244, 'DEF': 2.148, 'MID': 2.262, 'FWD': 2.785},\n",
    "    'xgb_roll_3': {'GK': 2.122, 'DEF': 2.147, 'MID': 2.268, 'FWD': 2.727},\n",
    "    'xgb_roll_5': {'GK': 2.182, 'DEF': 2.154, 'MID': 2.297,  'FWD': 2.844}\n",
    "}\n",
    "\n",
    "df2 = pd.DataFrame.from_dict(dicts2, orient='index')"
   ]
  },
  {
   "cell_type": "code",
   "execution_count": null,
   "id": "42c6562e",
   "metadata": {},
   "outputs": [
    {
     "data": {
      "text/plain": [
       "<Axes: xlabel='variable', ylabel='value'>"
      ]
     },
     "execution_count": 67,
     "metadata": {},
     "output_type": "execute_result"
    },
    {
     "data": {
      "image/png": "[encoded data removed]",
      "text/plain": [
       "<Figure size 640x480 with 1 Axes>"
      ]
     },
     "metadata": {},
     "output_type": "display_data"
    }
   ],
   "source": [
    "df_plot = df2.reset_index().melt(id_vars='index')\n",
    "sns.stripplot(data=df_plot, y='value', x='variable', hue='index')"
   ]
  },
  {
   "cell_type": "markdown",
   "id": "bcad7840",
   "metadata": {},
   "source": [
    "ewma =        {'GK': 2.096, 'DEF': 2.140, 'MID': 2.239, 'FWD': 2.736}\n",
    "\n",
    "roll_3 =      {'GK': 2.060, 'DEF': 2.148, 'MID': 2.260, 'FWD': 2.758}\n",
    "roll_5 =      {'GK': 2.125, 'DEF': 2.157, 'MID': 2.271, 'FWD': 2.785}\n",
    "roll_7 =      {'GK': 2.176, 'DEF': 2.168, 'MID': 2.268, 'FWD': 2.771}\n",
    "roll_38 =     {'GK': 2.207, 'DEF': 2.207, 'MID': 2.283, 'FWD': 2.777}\n",
    "\n",
    "xgb_ewma =    {'GK': 2.244, 'DEF': 2.148, 'MID': 2.262, 'FWD': 2.785}\n",
    "\n",
    "xgb_roll_3 =  {'GK': 2.016, 'DEF': 2.172, 'MID': 2.172, 'FWD': 2.65}\n",
    "xgb_roll_5 =  {'GK': 2.182, 'DEF': 2.154, 'MID': 2.297, 'FWD': 2.844}\n",
    "xgb_roll_7 =  {'GK': 2.247, 'DEF': 2.170, 'MID': 2.281, 'FWD': 2.914}\n",
    "xgb_roll_38 = {'GK': 2.267, 'DEF': 2.192, 'MID': 2.292, 'FWD': 2.825}"
   ]
  },
  {
   "cell_type": "code",
   "execution_count": null,
   "id": "eff186ed",
   "metadata": {},
   "outputs": [],
   "source": [
    "ewma =        {'GK': 2.096, 'DEF': 2.140, 'MID': 2.239, 'FWD': 2.736}\n",
    "\n",
    "roll_3 =      {'GK': 2.060, 'DEF': 2.148, 'MID': 2.260, 'FWD': 2.758}\n",
    "roll_5 =      {'GK': 2.125, 'DEF': 2.157, 'MID': 2.271, 'FWD': 2.785}\n",
    "roll_7 =      {'GK': 2.176, 'DEF': 2.168, 'MID': 2.268, 'FWD': 2.771}\n",
    "roll_38 =     {'GK': 2.207, 'DEF': 2.207, 'MID': 2.283, 'FWD': 2.777}\n",
    "\n",
    "xgb_ewma =    {'GK': 2.244, 'DEF': 2.148, 'MID': 2.262, 'FWD': 2.785}\n",
    "\n",
    "xgb_roll_3 =  {'GK': 2.016, 'DEF': 2.172, 'MID': 2.172, 'FWD': 2.65}\n",
    "xgb_roll_5 =  {'GK': 2.182, 'DEF': 2.154, 'MID': 2.297, 'FWD': 2.844}\n",
    "xgb_roll_7 =  {'GK': 2.247, 'DEF': 2.170, 'MID': 2.281, 'FWD': 2.914}\n",
    "xgb_roll_38 = {'GK': 2.267, 'DEF': 2.192, 'MID': 2.292, 'FWD': 2.825}"
   ]
  },
  {
   "cell_type": "code",
   "execution_count": null,
   "id": "de811c00",
   "metadata": {},
   "outputs": [],
   "source": [
    "# Create a DataFrame from the given dictionaries\n",
    "dicts = {\n",
    "    'ewma':        {'GK': 2.096, 'DEF': 2.140, 'MID': 2.239, 'FWD': 2.736},\n",
    "    'roll_3':      {'GK': 2.060, 'DEF': 2.148, 'MID': 2.260, 'FWD': 2.758},\n",
    "    'roll_5':      {'GK': 2.125, 'DEF': 2.157, 'MID': 2.271, 'FWD': 2.785},\n",
    "    'roll_7':      {'GK': 2.176, 'DEF': 2.168, 'MID': 2.268, 'FWD': 2.771},\n",
    "    'roll_38':     {'GK': 2.207, 'DEF': 2.207, 'MID': 2.283, 'FWD': 2.777},\n",
    "    'xgb_ewma':    {'GK': 2.244, 'DEF': 2.148, 'MID': 2.262, 'FWD': 2.785},\n",
    "    'xgb_roll_3':  {'GK': 2.016, 'DEF': 2.172, 'MID': 2.172, 'FWD': 2.65},\n",
    "    'xgb_roll_5':  {'GK': 2.182, 'DEF': 2.154, 'MID': 2.297, 'FWD': 2.844},\n",
    "    'xgb_roll_7':  {'GK': 2.247, 'DEF': 2.170, 'MID': 2.281, 'FWD': 2.914},\n",
    "    'xgb_roll_38': {'GK': 2.267, 'DEF': 2.192, 'MID': 2.292, 'FWD': 2.825}\n",
    "}\n",
    "\n",
    "df = pd.DataFrame.from_dict(dicts, orient='index')"
   ]
  },
  {
   "cell_type": "code",
   "execution_count": null,
   "id": "843a015d",
   "metadata": {},
   "outputs": [],
   "source": [
    "import seaborn as sns\n",
    "import matplotlib.pyplot as plt"
   ]
  },
  {
   "cell_type": "code",
   "execution_count": null,
   "id": "238c8d0d",
   "metadata": {},
   "outputs": [],
   "source": [
    "df_plot = df.reset_index().melt(id_vars='index')"
   ]
  },
  {
   "cell_type": "code",
   "execution_count": null,
   "id": "cda12ef6",
   "metadata": {},
   "outputs": [
    {
     "data": {
      "text/html": [
       "<div>\n",
       "<style scoped>\n",
       "    .dataframe tbody tr th:only-of-type {\n",
       "        vertical-align: middle;\n",
       "    }\n",
       "\n",
       "    .dataframe tbody tr th {\n",
       "        vertical-align: top;\n",
       "    }\n",
       "\n",
       "    .dataframe thead th {\n",
       "        text-align: right;\n",
       "    }\n",
       "</style>\n",
       "<table border=\"1\" class=\"dataframe\">\n",
       "  <thead>\n",
       "    <tr style=\"text-align: right;\">\n",
       "      <th></th>\n",
       "      <th>index</th>\n",
       "      <th>variable</th>\n",
       "      <th>value</th>\n",
       "    </tr>\n",
       "  </thead>\n",
       "  <tbody>\n",
       "    <tr>\n",
       "      <th>0</th>\n",
       "      <td>ewma</td>\n",
       "      <td>GK</td>\n",
       "      <td>2.096</td>\n",
       "    </tr>\n",
       "    <tr>\n",
       "      <th>6</th>\n",
       "      <td>xgb_roll_3</td>\n",
       "      <td>GK</td>\n",
       "      <td>2.016</td>\n",
       "    </tr>\n",
       "    <tr>\n",
       "      <th>7</th>\n",
       "      <td>xgb_roll_5</td>\n",
       "      <td>GK</td>\n",
       "      <td>2.182</td>\n",
       "    </tr>\n",
       "    <tr>\n",
       "      <th>10</th>\n",
       "      <td>ewma</td>\n",
       "      <td>DEF</td>\n",
       "      <td>2.140</td>\n",
       "    </tr>\n",
       "    <tr>\n",
       "      <th>16</th>\n",
       "      <td>xgb_roll_3</td>\n",
       "      <td>DEF</td>\n",
       "      <td>2.172</td>\n",
       "    </tr>\n",
       "    <tr>\n",
       "      <th>17</th>\n",
       "      <td>xgb_roll_5</td>\n",
       "      <td>DEF</td>\n",
       "      <td>2.154</td>\n",
       "    </tr>\n",
       "    <tr>\n",
       "      <th>20</th>\n",
       "      <td>ewma</td>\n",
       "      <td>MID</td>\n",
       "      <td>2.239</td>\n",
       "    </tr>\n",
       "    <tr>\n",
       "      <th>26</th>\n",
       "      <td>xgb_roll_3</td>\n",
       "      <td>MID</td>\n",
       "      <td>2.172</td>\n",
       "    </tr>\n",
       "    <tr>\n",
       "      <th>27</th>\n",
       "      <td>xgb_roll_5</td>\n",
       "      <td>MID</td>\n",
       "      <td>2.297</td>\n",
       "    </tr>\n",
       "    <tr>\n",
       "      <th>30</th>\n",
       "      <td>ewma</td>\n",
       "      <td>FWD</td>\n",
       "      <td>2.736</td>\n",
       "    </tr>\n",
       "    <tr>\n",
       "      <th>36</th>\n",
       "      <td>xgb_roll_3</td>\n",
       "      <td>FWD</td>\n",
       "      <td>2.650</td>\n",
       "    </tr>\n",
       "    <tr>\n",
       "      <th>37</th>\n",
       "      <td>xgb_roll_5</td>\n",
       "      <td>FWD</td>\n",
       "      <td>2.844</td>\n",
       "    </tr>\n",
       "  </tbody>\n",
       "</table>\n",
       "</div>"
      ],
      "text/plain": [
       "         index variable  value\n",
       "0         ewma       GK  2.096\n",
       "6   xgb_roll_3       GK  2.016\n",
       "7   xgb_roll_5       GK  2.182\n",
       "10        ewma      DEF  2.140\n",
       "16  xgb_roll_3      DEF  2.172\n",
       "17  xgb_roll_5      DEF  2.154\n",
       "20        ewma      MID  2.239\n",
       "26  xgb_roll_3      MID  2.172\n",
       "27  xgb_roll_5      MID  2.297\n",
       "30        ewma      FWD  2.736\n",
       "36  xgb_roll_3      FWD  2.650\n",
       "37  xgb_roll_5      FWD  2.844"
      ]
     },
     "execution_count": 72,
     "metadata": {},
     "output_type": "execute_result"
    }
   ],
   "source": [
    "df_plot.query('index in [\"ewma\", \"xgb_roll_3\", \"xgb_roll_5\"]')"
   ]
  },
  {
   "cell_type": "code",
   "execution_count": null,
   "id": "e9c06f75",
   "metadata": {},
   "outputs": [
    {
     "data": {
      "text/plain": [
       "<Axes: xlabel='variable', ylabel='value'>"
      ]
     },
     "execution_count": 73,
     "metadata": {},
     "output_type": "execute_result"
    },
    {
     "data": {
      "image/png": "[encoded data removed]",
      "text/plain": [
       "<Figure size 640x480 with 1 Axes>"
      ]
     },
     "metadata": {},
     "output_type": "display_data"
    }
   ],
   "source": [
    "sns.stripplot(data=df_plot.query('index in [\"ewma\", \"xgb_roll_3\", \"xgb_roll_5\"]'), y='value', x='variable', hue='index')"
   ]
  }
 ],
 "metadata": {
  "kernelspec": {
   "display_name": "base",
   "language": "python",
   "name": "python3"
  },
  "language_info": {
   "codemirror_mode": {
    "name": "ipython",
    "version": 3
   },
   "file_extension": ".py",
   "mimetype": "text/x-python",
   "name": "python",
   "nbconvert_exporter": "python",
   "pygments_lexer": "ipython3",
   "version": "3.12.10"
  }
 },
 "nbformat": 4,
 "nbformat_minor": 5
}
