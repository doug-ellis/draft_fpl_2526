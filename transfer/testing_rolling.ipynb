{
 "cells": [
  {
   "cell_type": "code",
   "execution_count": 1,
   "id": "db642964",
   "metadata": {},
   "outputs": [],
   "source": [
    "from wrangle_data_funcs import *\n",
    "from modelling_funcs import *\n",
    "from predict_gw_scores import *\n",
    "from sklearn.linear_model import LinearRegression\n",
    "from sklearn.ensemble import RandomForestRegressor\n",
    "import xgboost as xgb\n",
    "import pandas as pd\n",
    "from sklearn.model_selection import train_test_split, GridSearchCV, RandomizedSearchCV, cross_val_score\n",
    "\n",
    "import seaborn as sns\n",
    "import matplotlib.pyplot as plt"
   ]
  },
  {
   "cell_type": "code",
   "execution_count": 2,
   "id": "ab37008f",
   "metadata": {},
   "outputs": [],
   "source": [
    "def get_ewma_df(year, gw, ewma_alpha):\n",
    "    gw_df = import_data_from_vastaav(year, gw)\n",
    "    gw_df = add_team_data(gw_df)\n",
    "\n",
    "    gw_df['full_name'] = gw_df['name'].apply(clean_name)\n",
    "\n",
    "    player_value_cols = ['xP', 'assists', 'bonus', 'bps',\n",
    "       'clean_sheets', 'creativity', 'expected_assists',\n",
    "       'expected_goal_involvements', 'expected_goals',\n",
    "       'expected_goals_conceded', 'goals_conceded', 'goals_scored',\n",
    "       'ict_index', 'influence', 'minutes',\n",
    "       'own_goals', 'penalties_missed', 'penalties_saved',\n",
    "       'red_cards', 'saves', 'starts',\n",
    "       'threat', 'total_points', 'transfers_balance',\n",
    "       'transfers_in', 'transfers_out', 'value', 'yellow_cards']\n",
    "    merge_cols_players = ['full_name', 'gw', 'total_points', 'position','team','opponent_team']\n",
    "    ewma_gw_df_players = ewma(gw_df, 'full_name', player_value_cols, ewma_alpha, {'total_points': 'ewma_total_points'}, merge_cols_players)\n",
    "\n",
    "    gw_df_teams = get_teams_df(gw_df)\n",
    "    team_value_cols = ['team_goals', 'team_points']\n",
    "    merge_cols_teams = ['team', 'gw']\n",
    "    ewma_gw_df_teams = ewma(gw_df_teams, 'team', team_value_cols, ewma_alpha, {'team_goals': 'ewma_team_goals',\n",
    "                                                                            'team_points': 'ewma_team_points'}, merge_cols_teams)\n",
    "    merged_ewma_df = merge_ewma_dfs(ewma_gw_df_players, ewma_gw_df_teams, year)\n",
    "    return merged_ewma_df"
   ]
  },
  {
   "cell_type": "code",
   "execution_count": 3,
   "id": "c73ea534",
   "metadata": {},
   "outputs": [],
   "source": [
    "def ewma(gw_df, groupby_col, value_cols, alpha, rename_dict, remerge_cols):\n",
    "    # Ensure the DataFrame is sorted by 'full_name' and 'gw'\n",
    "    gw_df_sorted = gw_df.sort_values([groupby_col, 'gw']).reset_index()\n",
    "\n",
    "    # Apply EWMA within each group\n",
    "    ewma_gw_df = (\n",
    "        gw_df_sorted\n",
    "        .groupby(groupby_col, group_keys=False)\n",
    "        [value_cols]\n",
    "        .apply(lambda x: x.ewm(alpha=alpha, adjust=False).mean())\n",
    "    )\n",
    "    ewma_gw_df.rename(columns=rename_dict, inplace=True)\n",
    "    ewma_gw_df = gw_df_sorted[remerge_cols].join(ewma_gw_df)\n",
    "    return ewma_gw_df"
   ]
  },
  {
   "cell_type": "code",
   "execution_count": 4,
   "id": "4ed8a7b0",
   "metadata": {},
   "outputs": [],
   "source": [
    "def roll(gw_df, groupby_col, value_cols, alpha, rename_dict, remerge_cols, rolling_gws):\n",
    "    # Ensure the DataFrame is sorted by 'full_name' and 'gw'\n",
    "    gw_df_sorted = gw_df.sort_values([groupby_col, 'gw']).reset_index()\n",
    "\n",
    "    # Apply rolling mean within each group\n",
    "    rolling_gw_df = (\n",
    "        gw_df_sorted\n",
    "        .groupby(groupby_col, group_keys=False)\n",
    "        [value_cols]\n",
    "        .apply(lambda x: x.rolling(window=rolling_gws, min_periods=1).mean())\n",
    "    )\n",
    "    rolling_gw_df.rename(columns=rename_dict, inplace=True)\n",
    "    rolling_gw_df = gw_df_sorted[remerge_cols].join(rolling_gw_df)\n",
    "    return rolling_gw_df"
   ]
  },
  {
   "cell_type": "code",
   "execution_count": 5,
   "id": "de98c67c",
   "metadata": {},
   "outputs": [],
   "source": [
    "def get_rolling_df(year, gw, ewma_alpha, rolling_gws):\n",
    "    gw_df = import_data_from_vastaav(year, gw)\n",
    "    gw_df = add_team_data(gw_df)\n",
    "\n",
    "    gw_df['full_name'] = gw_df['name'].apply(clean_name)\n",
    "\n",
    "    player_value_cols = ['xP', 'assists', 'bonus', 'bps',\n",
    "       'clean_sheets', 'creativity', 'expected_assists',\n",
    "       'expected_goal_involvements', 'expected_goals',\n",
    "       'expected_goals_conceded', 'goals_conceded', 'goals_scored',\n",
    "       'ict_index', 'influence', 'minutes',\n",
    "       'own_goals', 'penalties_missed', 'penalties_saved',\n",
    "       'red_cards', 'saves', 'starts',\n",
    "       'threat', 'total_points', 'transfers_balance',\n",
    "       'transfers_in', 'transfers_out', 'value', 'yellow_cards']\n",
    "    merge_cols_players = ['full_name', 'gw', 'total_points', 'position','team','opponent_team']\n",
    "    ewma_gw_df_players = roll(gw_df, 'full_name', player_value_cols, ewma_alpha, {'total_points': 'ewma_total_points'}, merge_cols_players, rolling_gws)\n",
    "\n",
    "    gw_df_teams = get_teams_df(gw_df)\n",
    "    team_value_cols = ['team_goals', 'team_points']\n",
    "    merge_cols_teams = ['team', 'gw']\n",
    "    ewma_gw_df_teams = roll(gw_df_teams, 'team', team_value_cols, ewma_alpha, {'team_goals': 'ewma_team_goals',\n",
    "                                                                            'team_points': 'ewma_team_points'}, merge_cols_teams, rolling_gws)\n",
    "    merged_ewma_df = merge_ewma_dfs(ewma_gw_df_players, ewma_gw_df_teams, year)\n",
    "    return merged_ewma_df"
   ]
  },
  {
   "cell_type": "code",
   "execution_count": 6,
   "id": "104546e6",
   "metadata": {},
   "outputs": [],
   "source": [
    "training_year, training_n_gws, pred_year, pred_gw, alpha, features, model, output = get_params()"
   ]
  },
  {
   "cell_type": "code",
   "execution_count": 7,
   "id": "aae252f2",
   "metadata": {},
   "outputs": [],
   "source": [
    "year = training_year\n",
    "n_gws = training_n_gws\n",
    "alpha = alpha"
   ]
  },
  {
   "cell_type": "code",
   "execution_count": 8,
   "id": "6dde7974",
   "metadata": {},
   "outputs": [],
   "source": [
    "ewma_df = get_ewma_df(year, n_gws, alpha)"
   ]
  },
  {
   "cell_type": "code",
   "execution_count": 9,
   "id": "f563212f",
   "metadata": {},
   "outputs": [],
   "source": [
    "roll_df = get_rolling_df(year, n_gws, alpha, rolling_gws=5)"
   ]
  },
  {
   "cell_type": "code",
   "execution_count": 10,
   "id": "02abd0a5",
   "metadata": {},
   "outputs": [],
   "source": [
    "##########"
   ]
  },
  {
   "cell_type": "code",
   "execution_count": 11,
   "id": "d7375b45",
   "metadata": {},
   "outputs": [],
   "source": [
    "# get_training_df\n",
    "year = training_year\n",
    "n_gws = training_n_gws\n",
    "alpha = alpha\n",
    "\n",
    "# gw_df = ewma_df.copy()\n",
    "gw_df = roll_df.copy()\n",
    "\n",
    "training_df = lag_data_for_training(gw_df).dropna(subset=['total_points_nw'])\n",
    "non_zero_players = training_df.groupby('full_name').sum().query('total_points_nw>0').index\n",
    "training_df_f = training_df.query('gw>1 and full_name in @non_zero_players')\n"
   ]
  },
  {
   "cell_type": "code",
   "execution_count": 12,
   "id": "7bd6a51b",
   "metadata": {},
   "outputs": [
    {
     "name": "stdout",
     "output_type": "stream",
     "text": [
      "{'GK': 2.182, 'DEF': 2.154, 'MID': 2.297, 'FWD': 2.844}\n"
     ]
    }
   ],
   "source": [
    "test_model(training_df_f, features, model)"
   ]
  },
  {
   "cell_type": "code",
   "execution_count": 15,
   "id": "4e4d5511",
   "metadata": {},
   "outputs": [],
   "source": [
    "# Create a DataFrame from the new set of dictionaries\n",
    "dicts2 = {\n",
    "    'lin_roll_3': {'GK': 2.06, 'DEF': 2.148, 'MID': 2.26, 'FWD': 2.758},\n",
    "    'lin_roll_5': {'GK': 2.125, 'DEF': 2.157, 'MID': 2.271, 'FWD': 2.785},\n",
    "    'lin_ewma':   {'GK': 2.096, 'DEF': 2.14,  'MID': 2.239, 'FWD': 2.736},\n",
    "    'xgb_ewma':   {'GK': 2.244, 'DEF': 2.148, 'MID': 2.262, 'FWD': 2.785},\n",
    "    'xgb_roll_3': {'GK': 2.122, 'DEF': 2.147, 'MID': 2.268, 'FWD': 2.727},\n",
    "    'xgb_roll_5': {'GK': 2.182, 'DEF': 2.154, 'MID': 2.297,  'FWD': 2.844}\n",
    "}\n",
    "\n",
    "df2 = pd.DataFrame.from_dict(dicts2, orient='index')"
   ]
  },
  {
   "cell_type": "code",
   "execution_count": 16,
   "id": "42c6562e",
   "metadata": {},
   "outputs": [
    {
     "data": {
      "text/plain": [
       "<Axes: xlabel='variable', ylabel='value'>"
      ]
     },
     "execution_count": 16,
     "metadata": {},
     "output_type": "execute_result"
    },
    {
     "data": {
      "image/png": "[encoded data removed]",
      "text/plain": [
       "<Figure size 640x480 with 1 Axes>"
      ]
     },
     "metadata": {},
     "output_type": "display_data"
    }
   ],
   "source": [
    "df_plot = df2.reset_index().melt(id_vars='index')\n",
    "sns.stripplot(data=df_plot, y='value', x='variable', hue='index')"
   ]
  },
  {
   "cell_type": "markdown",
   "id": "bcad7840",
   "metadata": {},
   "source": [
    "ewma =        {'GK': 2.096, 'DEF': 2.140, 'MID': 2.239, 'FWD': 2.736}\n",
    "\n",
    "roll_3 =      {'GK': 2.060, 'DEF': 2.148, 'MID': 2.260, 'FWD': 2.758}\n",
    "roll_5 =      {'GK': 2.125, 'DEF': 2.157, 'MID': 2.271, 'FWD': 2.785}\n",
    "roll_7 =      {'GK': 2.176, 'DEF': 2.168, 'MID': 2.268, 'FWD': 2.771}\n",
    "roll_38 =     {'GK': 2.207, 'DEF': 2.207, 'MID': 2.283, 'FWD': 2.777}\n",
    "\n",
    "xgb_ewma =    {'GK': 2.244, 'DEF': 2.148, 'MID': 2.262, 'FWD': 2.785}\n",
    "\n",
    "xgb_roll_3 =  {'GK': 2.016, 'DEF': 2.172, 'MID': 2.172, 'FWD': 2.65}\n",
    "xgb_roll_5 =  {'GK': 2.182, 'DEF': 2.154, 'MID': 2.297, 'FWD': 2.844}\n",
    "xgb_roll_7 =  {'GK': 2.247, 'DEF': 2.170, 'MID': 2.281, 'FWD': 2.914}\n",
    "xgb_roll_38 = {'GK': 2.267, 'DEF': 2.192, 'MID': 2.292, 'FWD': 2.825}"
   ]
  },
  {
   "cell_type": "code",
   "execution_count": 31,
   "id": "eff186ed",
   "metadata": {},
   "outputs": [],
   "source": [
    "ewma =        {'GK': 2.096, 'DEF': 2.140, 'MID': 2.239, 'FWD': 2.736}\n",
    "\n",
    "roll_3 =      {'GK': 2.060, 'DEF': 2.148, 'MID': 2.260, 'FWD': 2.758}\n",
    "roll_5 =      {'GK': 2.125, 'DEF': 2.157, 'MID': 2.271, 'FWD': 2.785}\n",
    "roll_7 =      {'GK': 2.176, 'DEF': 2.168, 'MID': 2.268, 'FWD': 2.771}\n",
    "roll_38 =     {'GK': 2.207, 'DEF': 2.207, 'MID': 2.283, 'FWD': 2.777}\n",
    "\n",
    "xgb_ewma =    {'GK': 2.244, 'DEF': 2.148, 'MID': 2.262, 'FWD': 2.785}\n",
    "\n",
    "xgb_roll_3 =  {'GK': 2.016, 'DEF': 2.172, 'MID': 2.172, 'FWD': 2.65}\n",
    "xgb_roll_5 =  {'GK': 2.182, 'DEF': 2.154, 'MID': 2.297, 'FWD': 2.844}\n",
    "xgb_roll_7 =  {'GK': 2.247, 'DEF': 2.170, 'MID': 2.281, 'FWD': 2.914}\n",
    "xgb_roll_38 = {'GK': 2.267, 'DEF': 2.192, 'MID': 2.292, 'FWD': 2.825}"
   ]
  },
  {
   "cell_type": "code",
   "execution_count": 33,
   "id": "de811c00",
   "metadata": {},
   "outputs": [],
   "source": [
    "# Create a DataFrame from the given dictionaries\n",
    "dicts = {\n",
    "    'ewma':        {'GK': 2.096, 'DEF': 2.140, 'MID': 2.239, 'FWD': 2.736},\n",
    "    'roll_3':      {'GK': 2.060, 'DEF': 2.148, 'MID': 2.260, 'FWD': 2.758},\n",
    "    'roll_5':      {'GK': 2.125, 'DEF': 2.157, 'MID': 2.271, 'FWD': 2.785},\n",
    "    'roll_7':      {'GK': 2.176, 'DEF': 2.168, 'MID': 2.268, 'FWD': 2.771},\n",
    "    'roll_38':     {'GK': 2.207, 'DEF': 2.207, 'MID': 2.283, 'FWD': 2.777},\n",
    "    'xgb_ewma':    {'GK': 2.244, 'DEF': 2.148, 'MID': 2.262, 'FWD': 2.785},\n",
    "    'xgb_roll_3':  {'GK': 2.016, 'DEF': 2.172, 'MID': 2.172, 'FWD': 2.65},\n",
    "    'xgb_roll_5':  {'GK': 2.182, 'DEF': 2.154, 'MID': 2.297, 'FWD': 2.844},\n",
    "    'xgb_roll_7':  {'GK': 2.247, 'DEF': 2.170, 'MID': 2.281, 'FWD': 2.914},\n",
    "    'xgb_roll_38': {'GK': 2.267, 'DEF': 2.192, 'MID': 2.292, 'FWD': 2.825}\n",
    "}\n",
    "\n",
    "df = pd.DataFrame.from_dict(dicts, orient='index')"
   ]
  },
  {
   "cell_type": "code",
   "execution_count": 34,
   "id": "843a015d",
   "metadata": {},
   "outputs": [],
   "source": [
    "import seaborn as sns\n",
    "import matplotlib.pyplot as plt"
   ]
  },
  {
   "cell_type": "code",
   "execution_count": 41,
   "id": "238c8d0d",
   "metadata": {},
   "outputs": [],
   "source": [
    "df_plot = df.reset_index().melt(id_vars='index')"
   ]
  },
  {
   "cell_type": "code",
   "execution_count": 52,
   "id": "cda12ef6",
   "metadata": {},
   "outputs": [
    {
     "data": {
      "text/html": [
       "<div>\n",
       "<style scoped>\n",
       "    .dataframe tbody tr th:only-of-type {\n",
       "        vertical-align: middle;\n",
       "    }\n",
       "\n",
       "    .dataframe tbody tr th {\n",
       "        vertical-align: top;\n",
       "    }\n",
       "\n",
       "    .dataframe thead th {\n",
       "        text-align: right;\n",
       "    }\n",
       "</style>\n",
       "<table border=\"1\" class=\"dataframe\">\n",
       "  <thead>\n",
       "    <tr style=\"text-align: right;\">\n",
       "      <th></th>\n",
       "      <th>index</th>\n",
       "      <th>variable</th>\n",
       "      <th>value</th>\n",
       "    </tr>\n",
       "  </thead>\n",
       "  <tbody>\n",
       "    <tr>\n",
       "      <th>0</th>\n",
       "      <td>ewma</td>\n",
       "      <td>GK</td>\n",
       "      <td>2.096</td>\n",
       "    </tr>\n",
       "    <tr>\n",
       "      <th>6</th>\n",
       "      <td>xgb_roll_3</td>\n",
       "      <td>GK</td>\n",
       "      <td>2.016</td>\n",
       "    </tr>\n",
       "    <tr>\n",
       "      <th>7</th>\n",
       "      <td>xgb_roll_5</td>\n",
       "      <td>GK</td>\n",
       "      <td>2.182</td>\n",
       "    </tr>\n",
       "    <tr>\n",
       "      <th>10</th>\n",
       "      <td>ewma</td>\n",
       "      <td>DEF</td>\n",
       "      <td>2.140</td>\n",
       "    </tr>\n",
       "    <tr>\n",
       "      <th>16</th>\n",
       "      <td>xgb_roll_3</td>\n",
       "      <td>DEF</td>\n",
       "      <td>2.172</td>\n",
       "    </tr>\n",
       "    <tr>\n",
       "      <th>17</th>\n",
       "      <td>xgb_roll_5</td>\n",
       "      <td>DEF</td>\n",
       "      <td>2.154</td>\n",
       "    </tr>\n",
       "    <tr>\n",
       "      <th>20</th>\n",
       "      <td>ewma</td>\n",
       "      <td>MID</td>\n",
       "      <td>2.239</td>\n",
       "    </tr>\n",
       "    <tr>\n",
       "      <th>26</th>\n",
       "      <td>xgb_roll_3</td>\n",
       "      <td>MID</td>\n",
       "      <td>2.172</td>\n",
       "    </tr>\n",
       "    <tr>\n",
       "      <th>27</th>\n",
       "      <td>xgb_roll_5</td>\n",
       "      <td>MID</td>\n",
       "      <td>2.297</td>\n",
       "    </tr>\n",
       "    <tr>\n",
       "      <th>30</th>\n",
       "      <td>ewma</td>\n",
       "      <td>FWD</td>\n",
       "      <td>2.736</td>\n",
       "    </tr>\n",
       "    <tr>\n",
       "      <th>36</th>\n",
       "      <td>xgb_roll_3</td>\n",
       "      <td>FWD</td>\n",
       "      <td>2.650</td>\n",
       "    </tr>\n",
       "    <tr>\n",
       "      <th>37</th>\n",
       "      <td>xgb_roll_5</td>\n",
       "      <td>FWD</td>\n",
       "      <td>2.844</td>\n",
       "    </tr>\n",
       "  </tbody>\n",
       "</table>\n",
       "</div>"
      ],
      "text/plain": [
       "         index variable  value\n",
       "0         ewma       GK  2.096\n",
       "6   xgb_roll_3       GK  2.016\n",
       "7   xgb_roll_5       GK  2.182\n",
       "10        ewma      DEF  2.140\n",
       "16  xgb_roll_3      DEF  2.172\n",
       "17  xgb_roll_5      DEF  2.154\n",
       "20        ewma      MID  2.239\n",
       "26  xgb_roll_3      MID  2.172\n",
       "27  xgb_roll_5      MID  2.297\n",
       "30        ewma      FWD  2.736\n",
       "36  xgb_roll_3      FWD  2.650\n",
       "37  xgb_roll_5      FWD  2.844"
      ]
     },
     "execution_count": 52,
     "metadata": {},
     "output_type": "execute_result"
    }
   ],
   "source": [
    "df_plot.query('index in [\"ewma\", \"xgb_roll_3\", \"xgb_roll_5\"]')"
   ]
  },
  {
   "cell_type": "code",
   "execution_count": 54,
   "id": "e9c06f75",
   "metadata": {},
   "outputs": [
    {
     "data": {
      "text/plain": [
       "<Axes: xlabel='variable', ylabel='value'>"
      ]
     },
     "execution_count": 54,
     "metadata": {},
     "output_type": "execute_result"
    },
    {
     "data": {
      "image/png": "[encoded data removed]",
      "text/plain": [
       "<Figure size 640x480 with 1 Axes>"
      ]
     },
     "metadata": {},
     "output_type": "display_data"
    }
   ],
   "source": [
    "sns.stripplot(data=df_plot.query('index in [\"ewma\", \"xgb_roll_3\", \"xgb_roll_5\"]'), y='value', x='variable', hue='index')"
   ]
  }
 ],
 "metadata": {
  "kernelspec": {
   "display_name": "base",
   "language": "python",
   "name": "python3"
  },
  "language_info": {
   "codemirror_mode": {
    "name": "ipython",
    "version": 3
   },
   "file_extension": ".py",
   "mimetype": "text/x-python",
   "name": "python",
   "nbconvert_exporter": "python",
   "pygments_lexer": "ipython3",
   "version": "3.12.11"
  }
 },
 "nbformat": 4,
 "nbformat_minor": 5
}
